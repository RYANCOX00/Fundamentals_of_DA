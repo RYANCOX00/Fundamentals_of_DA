{
 "cells": [
  {
   "cell_type": "code",
   "execution_count": null,
   "source": [
    "## Messing with Jupyter"
   ],
   "outputs": [],
   "metadata": {}
  },
  {
   "cell_type": "code",
   "execution_count": 8,
   "source": [
    "def new_function(input):\r\n",
    "    return \"Your input is {}\".format(input) \r\n",
    "\r\n",
    "newInput = input(\"Enter something: \")\r\n",
    "\r\n",
    "new_function(newInput)"
   ],
   "outputs": [
    {
     "output_type": "stream",
     "name": "stdout",
     "text": [
      "Enter something:  Hello World\n"
     ]
    },
    {
     "output_type": "execute_result",
     "data": {
      "text/plain": [
       "'Your input is Hello World'"
      ]
     },
     "metadata": {},
     "execution_count": 8
    }
   ],
   "metadata": {}
  },
  {
   "cell_type": "markdown",
   "source": [
    "## Sample List\n",
    "\n",
    "- Hello World\n",
    "- Hello Python\n",
    "- Hello Jupyter\n",
    "\n",
    "\n",
    "______________________________________________________\n",
    "\n",
    "## Irish Flag\n",
    "![](https://www.dublintown.ie/wp-content/uploads/2016/03/facts-about-the-irish-flag.jpg)"
   ],
   "metadata": {}
  },
  {
   "cell_type": "markdown",
   "source": [
    "<div class=\"alert alert-warning\">\n",
    "    This text is in yellow\n",
    "    </div>"
   ],
   "metadata": {}
  }
 ],
 "metadata": {
  "kernelspec": {
   "display_name": "Python 3",
   "language": "python",
   "name": "python3"
  },
  "language_info": {
   "codemirror_mode": {
    "name": "ipython",
    "version": 3
   },
   "file_extension": ".py",
   "mimetype": "text/x-python",
   "name": "python",
   "nbconvert_exporter": "python",
   "pygments_lexer": "ipython3",
   "version": "3.8.8"
  }
 },
 "nbformat": 4,
 "nbformat_minor": 5
}