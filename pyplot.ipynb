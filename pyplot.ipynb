{
 "cells": [
  {
   "cell_type": "markdown",
   "id": "feca130e-a67e-404a-860c-4824509e882a",
   "metadata": {},
   "source": [
    "# The Matplotlib Package\n",
    "\n",
    "***"
   ]
  },
  {
   "cell_type": "code",
   "execution_count": null,
   "id": "75f39fc2-840d-4d8e-b182-75a5e0c2de29",
   "metadata": {},
   "outputs": [],
   "source": [
    "import matplotlib.pyplot as plt\n",
    "import numpy as np"
   ]
  },
  {
   "cell_type": "markdown",
   "id": "7f620a0f-cd80-487a-aa03-0789632a62cd",
   "metadata": {},
   "source": [
    "<br>\n",
    "\n",
    "- Introduction...\n",
    "- The package... [1]\n",
    "- The 3 plots..."
   ]
  },
  {
   "cell_type": "code",
   "execution_count": null,
   "id": "e7b8fc4a-94ca-4aec-bc04-0794ee4e83df",
   "metadata": {},
   "outputs": [],
   "source": []
  },
  {
   "cell_type": "code",
   "execution_count": null,
   "id": "c8dcc336-3fb5-4a27-b7e2-ad75c4fe3b29",
   "metadata": {},
   "outputs": [],
   "source": []
  },
  {
   "cell_type": "code",
   "execution_count": null,
   "id": "ac6e1440-d7ff-48e1-83cb-dbf79f67b0fb",
   "metadata": {},
   "outputs": [],
   "source": []
  },
  {
   "cell_type": "code",
   "execution_count": null,
   "id": "048ee9c2-1428-4e73-8828-8fd9db7d8905",
   "metadata": {},
   "outputs": [],
   "source": []
  },
  {
   "cell_type": "code",
   "execution_count": null,
   "id": "5924bbb0-178f-4fc8-8908-35df81f90234",
   "metadata": {},
   "outputs": [],
   "source": []
  },
  {
   "cell_type": "markdown",
   "id": "5445aaa6-152f-4e63-a1c6-9673ec004158",
   "metadata": {},
   "source": [
    "# References\n",
    "\n",
    "[1] https://matplotlib.org/stable/users/index.html"
   ]
  },
  {
   "cell_type": "markdown",
   "id": "da2083e4-c614-4fd6-857a-6511805dff34",
   "metadata": {},
   "source": [
    "***\n",
    "# End"
   ]
  }
 ],
 "metadata": {
  "kernelspec": {
   "display_name": "Python 3",
   "language": "python",
   "name": "python3"
  },
  "language_info": {
   "codemirror_mode": {
    "name": "ipython",
    "version": 3
   },
   "file_extension": ".py",
   "mimetype": "text/x-python",
   "name": "python",
   "nbconvert_exporter": "python",
   "pygments_lexer": "ipython3",
   "version": "3.8.8"
  }
 },
 "nbformat": 4,
 "nbformat_minor": 5
}
