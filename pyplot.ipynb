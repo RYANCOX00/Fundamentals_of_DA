{
 "cells": [
  {
   "cell_type": "markdown",
   "id": "feca130e-a67e-404a-860c-4824509e882a",
   "metadata": {},
   "source": [
    "![matplotlib](https://matplotlib.org/stable/_images/history-2.png)\n",
    "\n",
    "\n",
    "<br>\n",
    "\n",
    "# The Matplotlib Pyplot Package\n",
    "\n",
    "***"
   ]
  },
  {
   "cell_type": "code",
   "execution_count": 1,
   "id": "8231584d-f136-44ca-bf28-054341a09043",
   "metadata": {},
   "outputs": [],
   "source": [
    "import matplotlib.pyplot as plt\n",
    "import numpy as np\n",
    "import pandas as pd\n",
    "import matplotlib.ticker as mtick"
   ]
  },
  {
   "cell_type": "markdown",
   "id": "bb9e47bb-2298-4105-97f1-6953d73b28a2",
   "metadata": {},
   "source": [
    "<br>\n",
    "\n",
    "***\n",
    "\n",
    "## Plot Parameters\n",
    "\n",
    "Adjusting the figure size only.  Plot parameters and styles will be discussed later. "
   ]
  },
  {
   "cell_type": "code",
   "execution_count": 2,
   "id": "76c7ad8e-7f42-4e7a-ade0-3a73327f5587",
   "metadata": {},
   "outputs": [],
   "source": [
    "plt.rcParams[\"figure.figsize\"] = (12, 7) "
   ]
  },
  {
   "cell_type": "markdown",
   "id": "7f620a0f-cd80-487a-aa03-0789632a62cd",
   "metadata": {},
   "source": [
    "<br>\n",
    "\n",
    "***\n",
    "\n",
    "## Matplotlib.pyplot Overview"
   ]
  },
  {
   "cell_type": "markdown",
   "id": "32e43bf8-5272-443f-946d-d212301f9ab2",
   "metadata": {},
   "source": [
    "Matplotlib is the most widely used plotting package in Python [1]. The sub-package pyplot give users the ability to plot two-dimensional arrays on the X and Y axes within a plot [2]. Many will be familar with the shorthand version plt as it is commonly imported as follow: *import matplotlib.pyplot as plt*. [3]\n",
    "\n",
    "<br>\n",
    "\n",
    "The package is written fully in Python and it is an extention of Numerical Python package or *Numpy* [4] -  the package that is used for data manipulation on numerical data [5].  Pyplot, however is compatiable and works well with a range of other packages such as Scipy [3]. \n",
    "\n",
    "<br>\n",
    "\n",
    "The package has an incrediable ability to quickly visualise datasets which would otherwise not be understood. The pakcage is efficiently run as code is structured [4].  Therefore minimal code is required to visualise a dataset. It was created with the \"*philosophy that you should be able to create simple plots with just a few commands, or just one!\"* [6]\n",
    "\n",
    "<br>\n",
    "\n",
    "Below is a quick explain of its efficiency before we delve into the full overview. "
   ]
  },
  {
   "cell_type": "markdown",
   "id": "9e653a15-0e6b-47f2-a197-043286967c3c",
   "metadata": {},
   "source": [
    "<br>\n",
    "\n",
    "## Plotting adult male heights\n",
    "\n",
    "I will use Numpy random package to generate a dataset. The normal distribution function will be used. See documentation [here](https://numpy.org/doc/stable/reference/random/generated/numpy.random.normal.html). [7]\n",
    "\n",
    "Average male height is 176cm with a standard deviation of 6.35cm. [8] "
   ]
  },
  {
   "cell_type": "markdown",
   "id": "ae2c7b55-e5fa-4835-a3a9-e6989e3e8b6c",
   "metadata": {},
   "source": [
    "\n",
    "\n",
    "#### Numpy Random"
   ]
  },
  {
   "cell_type": "code",
   "execution_count": 3,
   "id": "8a578af5-6c39-489a-aae6-c2cd1e7d6018",
   "metadata": {},
   "outputs": [],
   "source": [
    "# Saving the numpy random generator code as variable 'rng'. \n",
    "rng = np.random.default_rng()"
   ]
  },
  {
   "cell_type": "code",
   "execution_count": 4,
   "id": "628cfb68-d73a-4282-8b15-16dc0ac5ca90",
   "metadata": {},
   "outputs": [],
   "source": [
    "# Normal distribution function in Numpy Random.  176cm as mean, 6.35 as the scale. I have chosen a sample of 10,000.  \n",
    "\n",
    "height = rng.normal (176, 6.35, 10000)"
   ]
  },
  {
   "cell_type": "markdown",
   "id": "a234ef84-81af-4c69-9dc4-03c76e217036",
   "metadata": {},
   "source": [
    "<br>\n",
    "\n",
    "#### Pyplot Demonstration"
   ]
  },
  {
   "cell_type": "code",
   "execution_count": 5,
   "id": "2e7f5efd-1883-47d6-bc12-1892c2d91316",
   "metadata": {},
   "outputs": [
    {
     "data": {
      "image/png": "[encoded data removed]",
      "text/plain": [
       "<Figure size 864x504 with 1 Axes>"
      ]
     },
     "metadata": {
      "needs_background": "light"
     },
     "output_type": "display_data"
    }
   ],
   "source": [
    "# Plot height data as a histogram into 20 bins\n",
    "plt.hist(height, bins=20)\n",
    "\n",
    "# Showing the plot\n",
    "plt.show()"
   ]
  },
  {
   "cell_type": "markdown",
   "id": "962df608-9065-4194-818f-ff9c223db997",
   "metadata": {},
   "source": [
    "<br>\n",
    "\n",
    "I have purposely excluded the axis titles, title and anything fancy out of the plot out.  As mentioned above if we wish to get a quick glance at our data to understand it, we can visualise with pyplot is two lines of code.  "
   ]
  },
  {
   "cell_type": "markdown",
   "id": "84bcd579-cd4e-4f4b-9810-491cf8a54e5f",
   "metadata": {},
   "source": [
    "***\n",
    "\n",
    "<br>\n",
    "\n",
    "## A brief history of the present"
   ]
  },
  {
   "cell_type": "markdown",
   "id": "6fb3e54b-1ea2-4b69-b7e6-6803aaa6f8f0",
   "metadata": {},
   "source": [
    "Matplotlin began in 2002 by John D. Hunter.  Since then it has been improved with new functions and abilities added frequently. Its is currently on version 3.5.1. Today it is developed by Thomas A. Caswell with contributions made by hundreds of programmers. [9]\n",
    "\n",
    "<br>\n",
    "\n",
    "Today it is the go-to package for effecient plots.  Further, the powerful statistical visualisation package that is Seaborn built on top of Matplotlib. [10]\n",
    "\n",
    "\n",
    "<br>\n",
    "\n",
    "Below I will discuss the features of the pyplot sub-package.   I will then provide an in-depth explaination of three interesting plots available within the package. "
   ]
  },
  {
   "cell_type": "markdown",
   "id": "2ed72f22-6fbe-4dba-a9a7-8f4f230b54c7",
   "metadata": {},
   "source": [
    "***\n",
    "\n",
    "<br>\n",
    "\n",
    "## Pyplot Features"
   ]
  },
  {
   "cell_type": "markdown",
   "id": "3ab2acd4-e172-4655-84fb-2d13327e627b",
   "metadata": {},
   "source": [
    "Important features of pyplot include the stateless vs stateful approaches to pyplot, the figure & axes, axis & ticks, titles & suptitles, styles & params. Below I will discuss and demonstrate each feature in greater detail. "
   ]
  },
  {
   "cell_type": "markdown",
   "id": "2088b4d5-3bb6-412d-bb8d-5012598aa8e1",
   "metadata": {},
   "source": [
    "<br>\n",
    "\n",
    "### Stateful vs Stateless "
   ]
  },
  {
   "cell_type": "markdown",
   "id": "0d0d3108-de45-484a-a1e7-26a3fbef5527",
   "metadata": {},
   "source": [
    "The **stateful method** is a machine state way to use pyplot.  As we seen in the height demonstration above, it is an extremely efficient way to plot. \n",
    "\n",
    "Python will work with directly with the current plot that a user is working on.  We can work with one plot at a time.  We initiate this method by calling the plot directly - plt.plot(). Each time we intend to work on this single plot, we interact with it directly - for example, plt.xlabel(). [11]\n",
    "\n",
    "When we call the plot after our working with plt.show(),  the single plot we have been working with will be outputed. "
   ]
  },
  {
   "cell_type": "code",
   "execution_count": 6,
   "id": "3eaf584c-b7c2-42c6-8a60-aba0f4c00da9",
   "metadata": {},
   "outputs": [
    {
     "data": {
      "image/png": "[encoded data removed]",
      "text/plain": [
       "<Figure size 864x504 with 1 Axes>"
      ]
     },
     "metadata": {
      "needs_background": "light"
     },
     "output_type": "display_data"
    }
   ],
   "source": [
    "# Simple list of integers.\n",
    "line = [1,2,3,4]\n",
    "\n",
    "\n",
    "# Stateful method to plot line values. \n",
    "plt.plot(line, line)  \n",
    "\n",
    "# Interacting with the x axis.\n",
    "plt.xlabel('This is the x axis', fontsize =20)\n",
    "\n",
    "\n",
    "# Calling the plot to be outputed. \n",
    "plt.show()"
   ]
  },
  {
   "cell_type": "markdown",
   "id": "14e27b11-d653-4543-8138-0916479feb99",
   "metadata": {},
   "source": [
    "<br>\n",
    "\n",
    "The **stateless** method is an object orientated way to use the pyplot package.  We can create multiple plots at once, gaining far more control over where we interact.  Multiple plots on the same figure are referred to as subplots.  We can interact with any of these at a given time.  [11]\n",
    "\n",
    "However, these plots taken a little more code in order to initiate the plot.  As seen in the demonstration and discussed in greater detail next, we have to specify a figure, multiple axes, and the position of each axes on the figure; after that we have free rein to interact with the subplots as we like.  \n",
    "\n",
    "\n",
    "Important to note is the difference in the documentation when using stateful or stateless methods. The when interacting with a axes on a stateless method, generally the way to interact with a function is to use ax.set_title() for example.  Where as the way to interact with the stateful method is to use plt.label().   Below I was use examples from stateful and stateless and use the correct function accordingly. \n",
    "\n",
    "The is an extensive list of functions available so that we can interact with stateless plots in the documentation available [here](https://matplotlib.org/stable/api/axes_api.html). [16]"
   ]
  },
  {
   "cell_type": "code",
   "execution_count": 7,
   "id": "44c8349e-e06e-4cce-9fda-bf52d1ac6f98",
   "metadata": {},
   "outputs": [
    {
     "data": {
      "image/png": "[encoded data removed]",
      "text/plain": [
       "<Figure size 864x504 with 4 Axes>"
      ]
     },
     "metadata": {
      "needs_background": "light"
     },
     "output_type": "display_data"
    }
   ],
   "source": [
    "# Calling a figure, 4 axes on a 2x2 subplot. \n",
    "fig, [[ax1,ax2],[ax3,ax4]] = plt.subplots(2,2)\n",
    "\n",
    "# calling axes 3 and plotting the line data. \n",
    "ax3.plot(line, line)\n",
    "\n",
    "\n",
    "# Calling axes 2 and plot line data on the x axis, and a new list to the y axis (just for some variation)\n",
    "ax2.plot(line, [4,3,2,1])\n",
    "\n",
    "\n",
    "# Adding a title to axes 3\n",
    "ax3.set_title(\"axes 3 subplot\") \n",
    "\n",
    "\n",
    "# Outputting the plot\n",
    "plt.show()"
   ]
  },
  {
   "cell_type": "markdown",
   "id": "2a1dbd0e-0040-44a0-9604-cc986acfb423",
   "metadata": {},
   "source": [
    "We can see above that we are not required to interact with the plots consecutively.  Rather we can move around and interact with the subplots as we please.  We also can more control over the figure.  Often plots can get squashed with data. Within the object orientated method can interact with the figure, its margins, adjust the height and width between the plots.  See the subplot example again below with the height and width between subplots adjusted. "
   ]
  },
  {
   "cell_type": "code",
   "execution_count": 8,
   "id": "1eff42f8-edd4-4089-95fd-3f603d7c0574",
   "metadata": {},
   "outputs": [
    {
     "data": {
      "image/png": "[encoded data removed]",
      "text/plain": [
       "<Figure size 864x504 with 4 Axes>"
      ]
     },
     "metadata": {
      "needs_background": "light"
     },
     "output_type": "display_data"
    }
   ],
   "source": [
    "# Calling a figure, 4 axes on a 2x2 subplot. \n",
    "fig, [[ax1,ax2],[ax3,ax4]] = plt.subplots(2,2)\n",
    "\n",
    "# calling axes 3 and plotting the line data. \n",
    "ax3.plot(line, line)\n",
    "\n",
    "\n",
    "# Calling axes 2 and plot line data on the x axis, and a new list to the y axis (just for some variation)\n",
    "ax2.plot(line, [4,3,2,1])\n",
    "\n",
    "\n",
    "# Adding a title to axes 3\n",
    "ax3.set_title(\"axes 3 subplot\") \n",
    "\n",
    "# height and width between subplots adjusted [12]\n",
    "fig.subplots_adjust( wspace=2, hspace=2)\n",
    "\n",
    "\n",
    "# Outputting the plot\n",
    "plt.show()"
   ]
  },
  {
   "cell_type": "markdown",
   "id": "3b1e437d-fe64-4bf5-a523-dbe3aecfdd40",
   "metadata": {},
   "source": [
    "<br>\n",
    "\n",
    "### Figures and axes"
   ]
  },
  {
   "cell_type": "markdown",
   "id": "9fd1f303-1fc1-4577-826a-69c6914a0b43",
   "metadata": {},
   "source": [
    "I have briefly dicussed the *figure* and the axes of a plot above.  Nevertheless, the figure is the regarded as the full perimeter of overall plot.  It is the area that the subplots lie on top of. Under the stateful method of ploting as we've seen with the fig.subplots_adjust function, whe we call a fig function it interacts with the full plot.   \n",
    "\n",
    "An Axes on the otherhand refers to the individual plots themselves.  An axes is the individual subplot, or in a stateful method its refers to the sole plot, histogram or bar plot etc.. Above under the stateful method, we were calling the first individual axes to interact with by calling ax1. \n",
    "\n",
    "We can set seperate titles for the figure and axes, and seperate X and Y axis labels between the axes'.  (axes v axis will be discussed below)\n",
    "\n",
    "The below image demonstates the difference between a figure and axes neatly.[13]"
   ]
  },
  {
   "cell_type": "markdown",
   "id": "be9c140f-0d9d-4160-ab21-d4dab464c281",
   "metadata": {},
   "source": [
    "![plt_components](https://jingwen-z.github.io/images/20180526-oneplot.png)\n"
   ]
  },
  {
   "cell_type": "markdown",
   "id": "974bc8de-9cc9-4dd4-9307-83fa58596b67",
   "metadata": {},
   "source": [
    "<br>\n",
    "\n",
    "#### Plot with figure title and axes title"
   ]
  },
  {
   "cell_type": "code",
   "execution_count": 9,
   "id": "0a9d6128-6db6-421c-9d41-96304d0cf507",
   "metadata": {},
   "outputs": [
    {
     "data": {
      "image/png": "[encoded data removed]",
      "text/plain": [
       "<Figure size 864x504 with 2 Axes>"
      ]
     },
     "metadata": {
      "needs_background": "light"
     },
     "output_type": "display_data"
    }
   ],
   "source": [
    "\n",
    "# Figure with 2-axes subplots. \n",
    "fig, (ax1, ax2) = plt.subplots(1,2)\n",
    "\n",
    "# axes 1 - with not data plotted\n",
    "ax1.plot()\n",
    "\n",
    "# Axes 1 title set - fontsize 20\n",
    "ax1.set_title(\"Axes 1 Title\", fontsize = 20)\n",
    "ax1.set_xlabel(\"xx\")\n",
    "\n",
    "# Figure title set - font size 30 \n",
    "fig.suptitle(\"Figure Title\", fontsize = 30)\n",
    "\n",
    "\n",
    "# Axes title and figure title were too close.  Applying padding around the subplots. [13]\n",
    "fig.tight_layout(pad=3.0)\n",
    "\n",
    "# Showing plot\n",
    "plt.show()"
   ]
  },
  {
   "cell_type": "markdown",
   "id": "55d1fa06-ffe0-4ebb-abb0-806a06837937",
   "metadata": {},
   "source": [
    "<br>\n",
    "\n",
    "### Axis - X and Y"
   ]
  },
  {
   "cell_type": "markdown",
   "id": "6bf8cced-105b-4e54-a59d-2ba97c1c1437",
   "metadata": {},
   "source": [
    "Often the plot *axes* as discussed above and the *axis* of the axes can cause confusion.  The Axis are the premeter of each plot.  X axis are the horizontel lines, while the Y axis are the vertical lines.  Theres are also known as the spine. \n",
    "\n",
    "We can identify them by the numerical markers on the left (y axis) and the bottom (x axis) on the plot below. "
   ]
  },
  {
   "cell_type": "code",
   "execution_count": 10,
   "id": "346328a9-3db6-48fb-af29-91f63d1be0b6",
   "metadata": {},
   "outputs": [
    {
     "data": {
      "image/png": "[encoded data removed]",
      "text/plain": [
       "<Figure size 864x504 with 1 Axes>"
      ]
     },
     "metadata": {
      "needs_background": "light"
     },
     "output_type": "display_data"
    }
   ],
   "source": [
    "# Creating a stateful plot.\n",
    "plt.plot()\n",
    "\n",
    "# Creating X Axis labels and adjusting fontsize. [15]\n",
    "plt.xlabel(\"X Axis\", fontsize= 20)\n",
    "\n",
    "\n",
    "# Creating X Axis labels and adjusting fontsize.\n",
    "plt.ylabel(\"Y Axis\", fontsize=20)\n",
    "\n",
    "# Displaying plot\n",
    "plt.show()"
   ]
  },
  {
   "cell_type": "markdown",
   "id": "4026123a-0ca7-4ed1-bcb8-e4dac15bed60",
   "metadata": {},
   "source": [
    "Now that we understand where the Axis can be located, I will discuss the interesting things that we can do with them.  The markers on the axis are known as ticks.  The names, locations, format and markers for the ticks can be amended. \n",
    "\n",
    "The tick names and locations can be amended directly in a stateless method by using the function ax1.set_xticks()\n",
    "\n",
    "The format of the ticks can be adjusted by using the function ax1.set_major_formatter() - below I will demonstrate how to amend the format to percentages. \n",
    "\n",
    "First I will generate random data to visualise."
   ]
  },
  {
   "cell_type": "markdown",
   "id": "1a78b95b-d689-4779-838d-7ef07530476a",
   "metadata": {},
   "source": [
    "<br>\n",
    "\n",
    "#### Random - normal distribution\n",
    "\n",
    "Below I will demonstrate the amount of times people in Ireland go on holidays each year.  We'll say average is 1, with a population of 5,000,000.   I will use the poisson distribution for this. "
   ]
  },
  {
   "cell_type": "code",
   "execution_count": 11,
   "id": "d879ddc6-9a19-4922-8c90-8f745c848630",
   "metadata": {},
   "outputs": [],
   "source": [
    "# Average is 2, population of 5million. [19]\n",
    "holidays = rng.poisson(1,5000000) "
   ]
  },
  {
   "cell_type": "code",
   "execution_count": 12,
   "id": "29095e27-458c-44a5-85b0-1872647599d7",
   "metadata": {},
   "outputs": [
    {
     "data": {
      "image/png": "[encoded data removed]",
      "text/plain": [
       "<Figure size 864x504 with 1 Axes>"
      ]
     },
     "metadata": {
      "needs_background": "light"
     },
     "output_type": "display_data"
    }
   ],
   "source": [
    "# Creating plot with a single axes.\n",
    "fig, ax1 = plt.subplots()\n",
    "\n",
    "# Setting bins to same range as x ticks, so they are in line. Density will give us the data as a percentage density.[17] \n",
    "ax1.hist(holidays, density = True, bins = range(10))  \n",
    "\n",
    "# Formating Y Axis to % [18].\n",
    "ax1.yaxis.set_major_formatter(mtick.PercentFormatter(1))\n",
    "\n",
    "# Setting Title of the axes and font size. \n",
    "ax1.set_title('Annual Holidays for People in Ireland', fontsize = 30)\n",
    "\n",
    "# Setting label of the X axis and font size.\n",
    "ax1.set_xlabel(\"Number of Holidays\", fontsize = 20)\n",
    "\n",
    "# Setting label of the Y axis and font size.\n",
    "ax1.set_ylabel(\"Percentage of population\", fontsize = 20)\n",
    "\n",
    "# Setting X range to the same as te bins so that they are in line with bins.\n",
    "ax1.set_xticks(range(10))  # x ticks set same as bins.\n",
    "\n",
    "plt.show()"
   ]
  },
  {
   "cell_type": "markdown",
   "id": "30d8216e-7dd4-447e-872b-320c3151416a",
   "metadata": {},
   "source": [
    " "
   ]
  },
  {
   "cell_type": "markdown",
   "id": "03e39e00-579c-423b-b4ac-c0030d658b44",
   "metadata": {},
   "source": [
    "<br>\n",
    "\n",
    "### Style and rcparams "
   ]
  },
  {
   "cell_type": "markdown",
   "id": "885fc711-b2f5-4282-b673-a451ed16293d",
   "metadata": {},
   "source": [
    "We can change the stype of the plot from a defined list of styles available [here](https://matplotlib.org/stable/gallery/style_sheets/style_sheets_reference.html). [20]\n",
    "This is completed by using the following code with *fivethirtyeight* used as an example **plt.style.use('fivethirtyeight')**\n",
    "\n",
    "Alternavetly we can create our owns style to be applied through a programme by setting the params through **rcparams** function. All params can be foound under the documentation [here](https://matplotlib.org/stable/tutorials/introductory/customizing.html). [21]\n",
    "\n",
    "Either option should be completed at the beginning of a programme to be applied throughout.  However, in this programme I will apply my own params to be used for the three interesting plots to follow. "
   ]
  },
  {
   "cell_type": "markdown",
   "id": "a274024d-a3d1-4b7b-a1ac-50bfac899684",
   "metadata": {},
   "source": [
    "#### Creating my own style parameters"
   ]
  },
  {
   "cell_type": "code",
   "execution_count": 13,
   "id": "489e5186-c6b0-4629-aebd-651d29ca5065",
   "metadata": {},
   "outputs": [],
   "source": [
    "# Figure size adjusted\n",
    "plt.rcParams['figure.figsize'] = [10, 8]\n",
    "\n",
    "# Axes title size adjusted\n",
    "plt.rcParams['axes.titlesize'] = 24  \n",
    "\n",
    "#Axis label size adjusted.\n",
    "plt.rcParams['axes.labelsize']= 20 \n",
    "\n",
    "\n",
    "# X tick size adjusted\n",
    "plt.rcParams['xtick.labelsize'] = 12 \n",
    "\n",
    "# Y tick size adjusted.\n",
    "plt.rcParams['ytick.labelsize'] = 12 \n",
    "\n",
    "\n",
    "# Setting an edge on the patches, black by default. \n",
    "plt.rcParams['patch.force_edgecolor'] = True   \n",
    "\n",
    "\n",
    "# Axes background color to an off-white / grey\n",
    "plt.rcParams['axes.facecolor'] = '#FCFCFC'\n",
    "\n",
    "\n",
    "# Axis spine removed from 4 corners. \n",
    "plt.rcParams['axes.spines.left'] = False  \n",
    "plt.rcParams['axes.spines.right'] = False\n",
    "plt.rcParams['axes.spines.bottom'] = False\n",
    "plt.rcParams['axes.spines.top'] = False\n",
    "\n",
    "\n",
    "# For plots which I apply a grid,  set the grid behind the plots. \n",
    "plt.rcParams['axes.axisbelow'] =(True)  \n",
    "plt.rcParams['grid.color'] = '#808080' \n",
    "\n",
    "# Applying above to all plots in remainder of this workbook.\n",
    "plt.rcParams.update()  "
   ]
  },
  {
   "cell_type": "markdown",
   "id": "b6ac8e81-0114-49ad-9d5b-136583813fb9",
   "metadata": {},
   "source": [
    "<br>\n",
    "\n",
    "#### I will plot the most recent plot again so demonstrate the effect of the plot parameters"
   ]
  },
  {
   "cell_type": "code",
   "execution_count": 14,
   "id": "0faefa19-af61-4be8-8c2a-9e06ffd4eb58",
   "metadata": {},
   "outputs": [
    {
     "data": {
      "image/png": "[encoded data removed]",
      "text/plain": [
       "<Figure size 720x576 with 1 Axes>"
      ]
     },
     "metadata": {
      "needs_background": "light"
     },
     "output_type": "display_data"
    }
   ],
   "source": [
    "# Creating plot with a single axes.\n",
    "fig, ax1 = plt.subplots()\n",
    "\n",
    "# Setting bins to same range as x ticks, so they are in line. Density will give us the data as a percentage density.[17] \n",
    "ax1.hist(holidays, density = True, bins = range(10))  \n",
    "\n",
    "# Formating Y Axis to % [18].\n",
    "ax1.yaxis.set_major_formatter(mtick.PercentFormatter(1))\n",
    "\n",
    "# Setting Title of the axes and font size. \n",
    "ax1.set_title('Annual Holidays for People in Ireland', fontsize = 30)\n",
    "\n",
    "# Setting label of the X axis and font size.\n",
    "ax1.set_xlabel(\"Number of Holidays\", fontsize = 20)\n",
    "\n",
    "# Setting label of the Y axis and font size.\n",
    "ax1.set_ylabel(\"Percentage of population\", fontsize = 20)\n",
    "\n",
    "# Setting X range to the same as te bins so that they are in line with bins.\n",
    "ax1.set_xticks(range(10))  # x ticks set same as bins.\n",
    "\n",
    "plt.show()"
   ]
  },
  {
   "cell_type": "markdown",
   "id": "75108ec1-fbaf-43f3-93de-d93ddb9765bc",
   "metadata": {},
   "source": [
    "***"
   ]
  },
  {
   "cell_type": "markdown",
   "id": "4cdce180-8b0d-40ab-9f9f-159a516a552e",
   "metadata": {},
   "source": [
    "## Explaination of Three Plots\n",
    "\n",
    "I will discuss the three below listed plots under this section of the assessment.  Once I explain how and where they are used I will apply them to a sample dataset. \n",
    "\n",
    "1. Histogram\n",
    "2. Scatter Plot\n",
    "3. Grouped Bar Chart "
   ]
  },
  {
   "cell_type": "markdown",
   "id": "6f10baaf-36e7-478b-bfad-374a0388748f",
   "metadata": {},
   "source": [
    "<br>\n",
    "\n",
    "## Histogram\n",
    "\n",
    "### Introduction\n",
    "\n",
    "A histogram is one of the most valuable plots available.  It can unleash insight into our dataset and should be used as a go-to when we wish to first understand the distribution.  The X axis on a histogram represents the range of values, while the Y axis represents the frequency or density of those values. [22]\n",
    "\n",
    "We should have at least 50 datapoints to produce a histogram [23]. In that event, provided the data is comparable we should no little or no gaps.  Alternatively, we will identify outliners - although it is often an anomilie a user is seeking \n",
    "\n",
    "A histogram contains bars known as bins, however unlike a barchart there is no gaps between then - unless there is large gaps in the dataset. [24]\n",
    "\n",
    "See a the below histogram which shows 10,000 uniformly distributed numbers between 1 and 100."
   ]
  },
  {
   "cell_type": "code",
   "execution_count": 15,
   "id": "11722a15-1a5c-46d4-81ea-f5719814d306",
   "metadata": {},
   "outputs": [],
   "source": [
    "# Sample a uniform distribution to show bins etc. \n",
    "uniform = rng.uniform(1,100,10000)"
   ]
  },
  {
   "cell_type": "code",
   "execution_count": 16,
   "id": "fb8afec1-0b5c-4561-a29e-0132f5362902",
   "metadata": {},
   "outputs": [
    {
     "data": {
      "image/png": "[encoded data removed]",
      "text/plain": [
       "<Figure size 720x576 with 1 Axes>"
      ]
     },
     "metadata": {
      "needs_background": "light"
     },
     "output_type": "display_data"
    }
   ],
   "source": [
    "plt.hist(uniform, bins = 20)\n",
    "\n",
    "# Setting Y Axis Label\n",
    "plt.ylabel(\"Frequency\")\n",
    "\n",
    "# Setting X Axis Label\n",
    "plt.xlabel(\"Number Range\")\n",
    "\n",
    "# Setting title\n",
    "plt.title(\"Example Histogram\")\n",
    "\n",
    "# Displaying plot\n",
    "plt.show()"
   ]
  },
  {
   "cell_type": "markdown",
   "id": "3666f67a-d556-4b44-a3a1-43ce2bee0429",
   "metadata": {},
   "source": [
    "<br>\n",
    "\n",
    "### Likely Distributions\n",
    "\n",
    "Different datasets produce a variatey of different distributions on a histograms.  Below I will demonstrate a healthy distribution on a histogram and incorrectly constructed histogram."
   ]
  },
  {
   "cell_type": "markdown",
   "id": "c72d2562-b617-4f3f-b90a-0994fd5199bf",
   "metadata": {},
   "source": [
    "#### Normal Distribution\n",
    "\n",
    "The normal distribution is also know as a bellshaped curve is one of the most commonly seen distributions.  We see this bellshaped curve where there is average data with a degree of varience from the average.  The frequency of numbers is highest around the mean and then they begin to drop to zero either side of the mean. [25] "
   ]
  },
  {
   "cell_type": "markdown",
   "id": "160df021-01a5-42c5-ae6e-db9c8121d9cc",
   "metadata": {},
   "source": [
    "#### Comb Distribution"
   ]
  },
  {
   "cell_type": "markdown",
   "id": "846f2dde-2c4b-4c51-9073-602b2b79063d",
   "metadata": {},
   "source": [
    "A comb distribution is where the bars in the plot are long and short and some are often missing.  Unlike with an intended normal distribution where the bar begin to drop, with a comb distribution the bars are inconsistent.  The reason for the inconsistent data is likely due to not having enough data points.  In this scenario the likelihood of the histogram providing and useful information low. [23]"
   ]
  },
  {
   "cell_type": "markdown",
   "id": "cdcbf4cb-1398-48a9-849e-06f7e751b8e1",
   "metadata": {},
   "source": [
    "#### Normal Distribution - sample size 1000 v 30\n",
    "\n",
    "Below I will provide similar parameters to the same random data and plot. The only difference being the sample size will be too low on the combed plot. "
   ]
  },
  {
   "cell_type": "code",
   "execution_count": 17,
   "id": "af47a9ae-654f-4601-b70e-cdbcd6af8bf1",
   "metadata": {},
   "outputs": [],
   "source": [
    "# Normal distribution.  Mean of 100,  standard deviation of 2.  Sample size 1,000\n",
    "normal = rng.normal(100,2,1000)"
   ]
  },
  {
   "cell_type": "code",
   "execution_count": 18,
   "id": "a739912f-48e5-4b4e-a964-cceef419f6c7",
   "metadata": {},
   "outputs": [],
   "source": [
    "# Normal distribution.  Mean of 100,  standard deviation of 2.  Sample size 30\n",
    "comb = rng.normal(100,2,30)"
   ]
  },
  {
   "cell_type": "code",
   "execution_count": 19,
   "id": "1cd2b276-ee53-4fd8-9226-6f4a644a2ad1",
   "metadata": {},
   "outputs": [
    {
     "data": {
      "image/png": "[encoded data removed]",
      "text/plain": [
       "<Figure size 1008x576 with 2 Axes>"
      ]
     },
     "metadata": {
      "needs_background": "light"
     },
     "output_type": "display_data"
    }
   ],
   "source": [
    "# Creating stateless plot with 2 axes\n",
    "fig, (ax1, ax2) = plt.subplots(1,2, figsize = (14,8))\n",
    "\n",
    "\n",
    "# Normal distribution with suitable sample.\n",
    "ax1.hist(normal, bins = 20, color = '#C1FFC1')\n",
    "\n",
    "# Setting Y Axis Label\n",
    "ax1.set_ylabel(\"Frequency\")\n",
    "\n",
    "# Setting X Axis Label\n",
    "ax1.set_xlabel(\"Number Range\")\n",
    "\n",
    "# Setting title\n",
    "ax1.set_title(\"Suitable Sample\")\n",
    "\n",
    "\n",
    "# Unsuitable sample plotted - comb distribution\n",
    "ax2.hist(comb, bins = 20, color = '#FCE6C9')\n",
    "\n",
    "# Setting Y Axis Label\n",
    "ax2.set_ylabel(\"Frequency\")\n",
    "\n",
    "# Setting X Axis Label\n",
    "ax2.set_xlabel(\"Number Range\")\n",
    "\n",
    "# Setting title\n",
    "ax2.set_title(\"Unsuitable Sample - Comb\")\n",
    "\n",
    "\n",
    "# Displaying plot\n",
    "plt.show()"
   ]
  },
  {
   "cell_type": "markdown",
   "id": "3f9028c2-c26b-42a3-a3d6-0d0af8afec7e",
   "metadata": {},
   "source": [
    "#### If the intended purpose of the histogram is to identify outliers, or to compare characteristics we might have gaps where differences lie.  We need very conscious that a low sample size is not mistaken for outliers or differences. "
   ]
  },
  {
   "cell_type": "markdown",
   "id": "44d69d3b-c35f-4f1e-ae74-65929972fdd0",
   "metadata": {},
   "source": [
    "<br>\n",
    "\n",
    "## Histogram documentation\n",
    "\n",
    "The histogram documentation for pyplot can be found [here](https://matplotlib.org/stable/api/_as_gen/matplotlib.pyplot.hist.html).  The only mandatory parameter is the data array i.e. the x value.  Thereafter, the parameters are optional.  Below I will discuss some of the most common parameters before demonstrating them with the *Iris Fishers* data set. \n",
    "\n",
    "\n",
    "As discussed above, the frequency of values are seperated in **bins**; we can set how many bin we choose to use.  For example bins = 20 will create 20 ranges. A value will then fall into one of these ranges and the frequency of the overall data in that bin will be represented by the height of the bin. \n",
    "\n",
    "\n",
    "**density** if set to True will give us the probability density of the data on the Y axis. The area under the histogram will then add to 1. Using the ax.yaxis.set_major_formatter(mtick.PercentFormatter(1)) function we can turn this probability density into a percentage.  I will not use the density parameter on the irish fisher data set. \n",
    "\n",
    "**histtype** will allow us to change the layout of the bins. The standard bars we see above are set by default.  Alternatively set the bars to 'barstacked', 'step', 'stepfilled'. \n",
    "\n",
    "\n",
    "**stacked** is identical to the 'barstacked' histype above.  This will seperate different variables within the data by color. We should have more than one variable at x.  In this case x should be a list of arrays. Each varaible will be assigned a color so we compare varaibles and their frequency by color. "
   ]
  },
  {
   "cell_type": "markdown",
   "id": "c0e56b1f-8191-4fa7-ba91-4a03a1519175",
   "metadata": {},
   "source": [
    "<br>\n",
    "\n",
    "### Iris Fisher Dataset\n",
    "\n",
    "The Iris Fishers Dataset is a set of measurements of 150 Iris flowers. The flowers were made up of three different species of Iris flower. A sample of 50 Iris-Setosa, 50 Iris-Versicolor and 50 Iris-Virginica were selected. The features measured on each sample was the sepal length, sepal width, petal length and petal width [26]. \n",
    "\n",
    "The dataset used below was obtained from UCI Machine Learning Repository found [here](https://archive.ics.uci.edu/ml/datasets/iris). [26]"
   ]
  },
  {
   "cell_type": "markdown",
   "id": "69a329c2-a149-42e6-a053-a6777626deea",
   "metadata": {},
   "source": [
    "<br>\n",
    "\n",
    "#### Creating variables for reading in data"
   ]
  },
  {
   "cell_type": "code",
   "execution_count": 20,
   "id": "730aeb6f-c1eb-4533-9138-749d5e67ced4",
   "metadata": {},
   "outputs": [],
   "source": [
    "# Creating headers for columns.\n",
    "columns = ['Sepal Length', 'Sepal Width', 'Petal Length', 'Petal Width', 'Species'] \n",
    "\n",
    "# Defining CSV path as a variable. \n",
    "iris_csv = 'https://archive.ics.uci.edu/ml/machine-learning-databases/iris/iris.data'"
   ]
  },
  {
   "cell_type": "markdown",
   "id": "4c979918-b151-44c3-9fe5-485a0008b966",
   "metadata": {},
   "source": [
    "<br>\n",
    "\n",
    "#### Reading in the CSV file"
   ]
  },
  {
   "cell_type": "code",
   "execution_count": 21,
   "id": "1de7c0ae-c91e-4f81-8a03-2926c8b3b364",
   "metadata": {},
   "outputs": [],
   "source": [
    "# Reading in the CSV as a pandas dataframe.  Column names as defined above.  No header on dataset so do not replace first line of data. [27]\n",
    "iris = pd.read_csv(iris_csv, names=columns, header=None )"
   ]
  },
  {
   "cell_type": "markdown",
   "id": "a5e47aeb-86b6-48a5-adc0-388af85f4a8f",
   "metadata": {},
   "source": [
    "<br>\n",
    "\n",
    "#### Cleaning the data"
   ]
  },
  {
   "cell_type": "code",
   "execution_count": 22,
   "id": "a57de3f6-ff7b-4d88-8be6-1bfa1b943e77",
   "metadata": {},
   "outputs": [],
   "source": [
    "# Removing \"Iris-\" and capitalising each species name in the Species column. [28]\n",
    "iris[\"Species\"]= [i.replace(\"Iris-\",\"\").capitalize() for i in iris[\"Species\"]]"
   ]
  },
  {
   "cell_type": "markdown",
   "id": "844b7222-54a2-4fd2-ba34-88ddb0f19d93",
   "metadata": {},
   "source": [
    "<br>\n",
    "\n",
    "#### Indexing to create variables for plotting"
   ]
  },
  {
   "cell_type": "code",
   "execution_count": 23,
   "id": "470463d4-5d77-4adb-9494-7f7dd971d4a1",
   "metadata": {},
   "outputs": [],
   "source": [
    "# Indexing the species into seperate dataframes.\n",
    "setosa = iris.iloc[0:50]\n",
    "versicolor = iris.iloc[50:100]\n",
    "virginica = iris.iloc[100:150]"
   ]
  },
  {
   "cell_type": "code",
   "execution_count": 24,
   "id": "9c9c4b17-0b66-4364-8a7d-30848e7e7f27",
   "metadata": {},
   "outputs": [],
   "source": [
    "# Indexing the each measurement for each specie. \n",
    "\n",
    "sepal_length = [setosa.iloc[:,0], versicolor.iloc[:,0], virginica.iloc[:,0]]\n",
    "sepal_width = [setosa.iloc[:,1], versicolor.iloc[:,1], virginica.iloc[:,1]]\n",
    "petal_length = [setosa.iloc[:,2], versicolor.iloc[:,2], virginica.iloc[:,2]]\n",
    "petal_width = [setosa.iloc[:,3], versicolor.iloc[:,3], virginica.iloc[:,3]]"
   ]
  },
  {
   "cell_type": "markdown",
   "id": "30aba056-02fc-48bb-b45e-628b0ba7a0b1",
   "metadata": {},
   "source": [
    "<br>\n",
    "\n",
    "#### Plotting the histogram"
   ]
  },
  {
   "cell_type": "code",
   "execution_count": 26,
   "id": "40a8702d-b5e5-47c1-8109-0fe6246a5f32",
   "metadata": {},
   "outputs": [
    {
     "data": {
      "image/png": "[encoded data removed]",
      "text/plain": [
       "<Figure size 720x576 with 1 Axes>"
      ]
     },
     "metadata": {
      "needs_background": "light"
     },
     "output_type": "display_data"
    },
    {
     "data": {
      "text/plain": [
       "<Figure size 720x576 with 0 Axes>"
      ]
     },
     "metadata": {},
     "output_type": "display_data"
    }
   ],
   "source": [
    "# Creating the labels for the legend\n",
    "label = [\"Setosa\", \"Versicplor\", \"Virginica\"]\n",
    "\n",
    "# Plotting the histogram. 30 bins to show variation. Stacking the species. \n",
    "plt.hist  (petal_length, bins = 30, stacked = True, label = label)\n",
    "\n",
    "# Setting a plot title\n",
    "plt.title(\"Petal Length for Iris Flowers\")\n",
    "\n",
    "# Setting an X axis label\n",
    "plt.xlabel(\"Petal Length in cm\")\n",
    "\n",
    "# Setting an Y axis label\n",
    "plt.ylabel(\"Frequency\")\n",
    "\n",
    "# Applying a grid (behind the bars as set in parameters)\n",
    "plt.grid()\n",
    "\n",
    "# Plotting the legend\n",
    "plt.legend()\n",
    "\n",
    "# Displaying the plot\n",
    "plt.show()\n",
    "\n",
    "# Saving the figure for the readme file. \n",
    "plt.savefig('data\\Petal_Lenght')"
   ]
  },
  {
   "cell_type": "markdown",
   "id": "ee304ac9-b1f6-4369-af6f-f1373ba6b7bc",
   "metadata": {},
   "source": [
    "***\n",
    "\n",
    "<br>\n",
    "\n",
    "## Scatter Plot\n",
    "\n",
    "### Introduction"
   ]
  },
  {
   "cell_type": "markdown",
   "id": "793b4f36-2b41-4aa8-bb79-a563890174af",
   "metadata": {},
   "source": [
    "A scatter plot is a visualisation method to represent data by way of using dots/ bubbles.  A pair of variables are plotted; one on the X axis and one on the Y axis.  We can then compare their relationship.    We can introduce a further variables if suitable. They can be represented by the size and/or colour of the bubble.  The documentation for the pyplot scatter plot is available [here](https://matplotlib.org/stable/api/_as_gen/matplotlib.pyplot.scatter.html). [29]\n",
    "\n",
    "The parameters include **X**, **Y** axis data. Size of the bubble under **s**. The **color** parameter taken in an array of colours by string the hex representation, or an integer number. **label** can be used to name the data points.   We can use the **data** parameter to read in a pandas dataframe - important to note that we should group the data points by the **label** prior or while reading in the dataframe.   An example on the use of all of these parameters is demonstrated below. \n",
    " \n",
    "An example might be adult male body mass across different races:\n",
    "- Height on the X axis, \n",
    "- Weight on the Y axis and \n",
    "- Age of an individual represented by the bubble size. \n",
    "- Ethic background might be represented by the colour of the bubble. "
   ]
  },
  {
   "cell_type": "markdown",
   "id": "916a8867-d579-46dc-97f3-c19284f1d4ad",
   "metadata": {},
   "source": [
    "<br>\n",
    "\n",
    "#### Creating a dict object to draw race and plot colors from"
   ]
  },
  {
   "cell_type": "code",
   "execution_count": null,
   "id": "859bd63b-e436-4796-95e1-8d009c2368c5",
   "metadata": {},
   "outputs": [],
   "source": [
    "races = {'White' : '#FECCA0' , 'Black' : '#A5C1C4', 'Asian': '#AF9DC4',\\\n",
    "         'Hispanic': '#FAB2BC', 'Arab': '#FEE8EB', 'Mixed':'#A6EDFF'}"
   ]
  },
  {
   "cell_type": "markdown",
   "id": "5c11ad32-d41d-4e5b-8099-dc3612e5de7e",
   "metadata": {},
   "source": [
    "<br>\n",
    "\n",
    "#### Generating random data"
   ]
  },
  {
   "cell_type": "code",
   "execution_count": null,
   "id": "21191b1d-d773-4367-a2f5-90b9155860d3",
   "metadata": {},
   "outputs": [],
   "source": [
    "# Random heights generated. 176 cm mean, 6.35 being standard deviation, 100 being sample size.\n",
    "height = rng.normal (176, 6.35, 100)\n",
    "\n",
    "# Random weights generated. 90kg mean, 12kg being standard deviation, 100 being sample size.\n",
    "weight = rng.normal (90, 12, 100)\n",
    "\n",
    "# Adult age sample generated from uniform number generator 100 samples size between age range of 18 - 82. \n",
    "age = rng.uniform (18, 82, 100)\n",
    "\n",
    "# 100 random samples of race picked from the dict object. \n",
    "race = rng.choice (list(races.keys()), 100, replace = True)\n",
    "\n",
    "# 100 random samples of colour picked from the dict object. \n",
    "colors = rng.choice (list(races.values()), 100, replace = True)"
   ]
  },
  {
   "cell_type": "markdown",
   "id": "ed2a485e-0957-4f8d-abf5-c51eb79fb58e",
   "metadata": {},
   "source": [
    "<br>\n",
    "\n",
    "#### Creating a dataframe for the dataset. "
   ]
  },
  {
   "cell_type": "code",
   "execution_count": null,
   "id": "9dd45d20-8b78-42c7-8fe0-d0a8c8590b67",
   "metadata": {},
   "outputs": [],
   "source": [
    "# Adding each variable to a dataframe.  Age * 5 to make the bubbles larger. \n",
    "\n",
    "df= pd.DataFrame(dict(height= height, weight= weight, \\\n",
    "                      age= age*5, race=race,color=colors))"
   ]
  },
  {
   "cell_type": "markdown",
   "id": "50b9502a-8859-4d3e-be68-3a5c6c5141a6",
   "metadata": {},
   "source": [
    "<br>\n",
    "\n",
    "#### Plotting data\n",
    "\n",
    "Group data in the dataset by 'race'.  The for loop will plot each *race* with the one line of code.  I will then use the data parameter to draw from the group data in the dataframe. The legend is then drawn from the grouped 'race' column. Reference for this solution is at [30]"
   ]
  },
  {
   "cell_type": "code",
   "execution_count": null,
   "id": "7163c0e6-6257-4542-be47-da3e0eec50cc",
   "metadata": {},
   "outputs": [],
   "source": [
    "# for loop to plot all data in one line of code. Grouped by race. \n",
    "for lab, group in df.groupby('race'): \n",
    "    \n",
    "    # Scatter plot, X is height, Y is weight, size of bubbles is age,  dataframe read-in grouped by race, bubbles slightly transparent. \n",
    "    plt.scatter('height','weight', s='age', data=group, label=lab, alpha =0.5)\n",
    "\n",
    "    \n",
    "# X Label is height. \n",
    "plt.xlabel(\"Height in cm\")\n",
    "\n",
    "# Y label is weight. \n",
    "plt.ylabel('Weight in kgs')\n",
    "\n",
    "# Setting the title of the plot. \n",
    "plt.title(\"Male Height, Weight and Age by Race\")\n",
    "\n",
    "# Legend contents are the races,  size of the legend set to 12. [31]\n",
    "plt.legend(title= 'race',prop={'size': 12})\n",
    "\n",
    "plt.show()"
   ]
  },
  {
   "cell_type": "markdown",
   "id": "955a3064-a30c-44f2-8eca-09d9591a48f7",
   "metadata": {},
   "source": [
    "***\n",
    "\n",
    "<br>\n",
    "\n",
    "## Box Plot\n",
    "\n",
    "### Introduction"
   ]
  },
  {
   "cell_type": "markdown",
   "id": "8ab5de29-de4f-4aed-a2f8-968afdbe64b9",
   "metadata": {},
   "source": [
    "The box plot is a really interesting plot that provides a great amount of output with limited input required.  The plot is great for understanding distribution of a dataset and for understanding the statistics of the dataset.  The level of detail depends on the parameters used; documentation for the box plot can be found [here](https://matplotlib.org/stable/api/_as_gen/matplotlib.pyplot.boxplot.html). [31]\n",
    "\n",
    "At a minimum, once the dataset is read in we can see the 4 quartiles. \n",
    "- **The interquartile range** (IQR) is where the majority of the data is distributed. This is the 2nd and 3rd percentile. [32] [33].\n",
    "- **The whiskers** is the data that lies immediately outside the interquartile on either side.  They are extreme data points but not considered outliers. [31]\n",
    "- **Fliers** are outlier data-points. They extend beyond the whiskers. \n",
    "  \n",
    "See the below image for the basic features of a box plot.[33]\n",
    "![boxplot](https://miro.medium.com/max/1838/1*2c21SkzJMf3frPXPAR_gZA.png)"
   ]
  },
  {
   "cell_type": "markdown",
   "id": "fcc8a56d-ad23-4e16-8fdd-88de019cb009",
   "metadata": {},
   "source": [
    "<br>\n",
    "\n",
    "After the dataset parameter is applied and the titles are set, we can toggle between Boolean parameters to adjust the output. [31]\n",
    "\n",
    "- **vert**: if set to True the labels will be on the X axis and the distribution will be represented on the Y axis.  If False, the labels and distribition will be reversed. \n",
    "- **showmean**: True/ False will either apply the mean to the output or not. \n",
    "- **meanline**: if showmean is set to true and meanline is set to true, a line will be drawn where the mean of the dataset is.  If showmean is True and meanline is false, a marker will be applied to the mean.  We can set the mean line format under the meanprops parameter.\n",
    "- **meanprops**: we can adjust the line format by changing the linewidth, the color and the line type.\n",
    "- **medianproper**: - we can adjust the line format by changing the linewidth, the color and the line type for the median line. \n",
    "- **patch artist**: if True the box for the interquartile range will be colour filled."
   ]
  },
  {
   "cell_type": "markdown",
   "id": "c3b2efbf-b6cb-446e-8c62-7b404b4dc914",
   "metadata": {},
   "source": [
    "<br>\n",
    "\n",
    "Below I will demonstrate a box plot using the Iris Fishers dataset. "
   ]
  },
  {
   "cell_type": "markdown",
   "id": "9c63935f-6cbb-43d3-a993-598498dbadc7",
   "metadata": {},
   "source": [
    "<br>\n",
    "\n",
    "#### Setting variables for plot"
   ]
  },
  {
   "cell_type": "code",
   "execution_count": null,
   "id": "38eb5e8d-cd16-4948-befc-1e7302d326b3",
   "metadata": {},
   "outputs": [],
   "source": [
    "# Median line width to 2 and color to yellow. [31]\n",
    "medianprops={'linewidth': 2, 'color': 'yellow'}\n",
    "\n",
    "# Mean line width 2 and color red. [31]\n",
    "meanprops={'linewidth': 2, 'color': 'red'}\n",
    "\n",
    "# Creating dict for species labels and colors.\n",
    "species = {\"Setosa\": '#FECCA0', \"Versicolor\":'#A5C1C4', \"Virginica\":'#AF9DC4'}"
   ]
  },
  {
   "cell_type": "markdown",
   "id": "4cd0febf-caa9-44ab-b7d4-e92367650c4b",
   "metadata": {},
   "source": [
    "<br> \n",
    "\n",
    "#### Ploting box plot"
   ]
  },
  {
   "cell_type": "code",
   "execution_count": null,
   "id": "e6ba44ee-d914-410b-beb4-44ae69c3ee43",
   "metadata": {},
   "outputs": [],
   "source": [
    "# Creating stateless single plot. \n",
    "fig, ax1  = plt.subplots()\n",
    "\n",
    "# Boxplot set horizontal, meanline set with line format set above. Colour filled. [31]\n",
    "box1 = ax1.boxplot(petal_width, vert=False, showmeans=True, meanline=True,\\\n",
    "            patch_artist=True, medianprops = medianprops,\\\n",
    "            meanprops = meanprops, labels = species.keys())\n",
    "\n",
    "# Adjusting color of the bars taken from dict object [34]\n",
    "for patch, color in zip(box1['boxes'], species.values()): patch.set_facecolor(color)\n",
    "\n",
    "# Setting axes title. \n",
    "ax1.set_title(\"Box Plot of Petal Width\")\n",
    "\n",
    "# Setting x axis label\n",
    "ax1.set_xlabel(\"Petal Width in cm\")\n",
    "    \n",
    "# Setting y axis label\n",
    "ax1.set_ylabel(\"Species of Iris\")\n",
    " \n",
    "# Applying a grid\n",
    "ax1.grid()\n",
    "\n",
    "# Displaying plot\n",
    "plt.show()"
   ]
  },
  {
   "cell_type": "markdown",
   "id": "3e79ba02-9697-4da6-8b7f-012ce61901c8",
   "metadata": {},
   "source": [
    "<br> \n",
    "\n",
    "The box plot above identifies two outliers in the setosa dataset.  It also identifies some crossover between measurements in the versicolor and virginica.  \n",
    "\n",
    "Below I will create a subplot with a box plot and histogram to compare these plots on the same datasets."
   ]
  },
  {
   "cell_type": "markdown",
   "id": "ddf99bfd-e475-45b7-8269-d31d08301785",
   "metadata": {},
   "source": [
    "<br>\n",
    "\n",
    "#### Subplot with boxplot and histogram for Petal Width"
   ]
  },
  {
   "cell_type": "code",
   "execution_count": null,
   "id": "e801a664-0e1b-46ae-b233-1b1123780a40",
   "metadata": {},
   "outputs": [],
   "source": [
    "# Creating stateless single plot.  Common X axis. \n",
    "fig, (ax1, ax2)  = plt.subplots(2,1, figsize=(16,8), sharex=True)\n",
    "\n",
    "# Boxplot set horizontal, meanline set with line format set above. Colour filled. [31]\n",
    "box1 = ax1.boxplot(petal_width, vert=False, showmeans=True, meanline=True,\\\n",
    "            patch_artist=True, medianprops = medianprops,\\\n",
    "            meanprops = meanprops, labels = species.keys())\n",
    "\n",
    "# Adjusting color of the bars [34]\n",
    "for patch, color in zip(box1['boxes'], species.values()): patch.set_facecolor(color)\n",
    "\n",
    "# Axes 1 Y label\n",
    "ax1.set_ylabel(\"Species of Iris\")\n",
    "    \n",
    "# Applying a grid to axes 1\n",
    "ax1.grid()\n",
    "\n",
    "\n",
    "\n",
    "# Hist plot for axes 2, frequency from variable defined ealier. 3 species stacked. color from dict. \n",
    "ax2.hist  (petal_width, bins = 30, stacked = True, label = label, color=species.values())\n",
    "\n",
    "# Applying a X axis label - note that share X is set to true.\n",
    "ax2.set_xlabel(\"Petal Width in cm\")\n",
    "\n",
    "# Setting Y label on axes 2.\n",
    "ax2.set_ylabel(\"Frequency\")\n",
    "\n",
    "# Applying grid to axes 2. \n",
    "ax2.grid()\n",
    "\n",
    "\n",
    "\n",
    "# Setting title for the figure.\n",
    "fig.suptitle(\"Plots for Petal Width\", fontsize=25)\n",
    "\n",
    "# Applying legend to the figure and location to center right,\n",
    "fig.legend(prop={'size': 12}, loc=\"center right\")\n",
    "\n",
    "# Display plot\n",
    "plt.show()"
   ]
  },
  {
   "cell_type": "markdown",
   "id": "de77d835-b6a4-448c-bcc3-7b2b8ade58ca",
   "metadata": {},
   "source": [
    "***"
   ]
  },
  {
   "cell_type": "markdown",
   "id": "9bd21f80-c488-4c9a-b092-f73a365d329a",
   "metadata": {},
   "source": [
    "<br>\n",
    "\n",
    "# References\n",
    "\n",
    "1. Plotting. Plotting – Plotting and Programming in Python. (n.d.). Retrieved January 1, 2022, from https://swcarpentry.github.io/python-novice-gapminder/09-plotting/index.html \n",
    "\n",
    "2. Introduction to plotting in python using Matplotlib. Earth Data Science - Earth Lab. (2019, September 11). Retrieved January 1, 2022, from https://www.earthdatascience.org/courses/scientists-guide-to-plotting-data-in-python/plot-with-matplotlib/introduction-to-matplotlib-plots/ \n",
    "\n",
    "3. Python: Introduction to matplotlib. GeeksforGeeks. (2018, May 14). Retrieved January 1, 2022, from https://www.geeksforgeeks.org/python-introduction-matplotlib/# \n",
    "\n",
    "4. M, R. (2021, December 3). What is Matplotlib in python? how to use it for plotting? ActiveState. Retrieved January 1, 2022, from https://www.activestate.com/resources/quick-reads/what-is-matplotlib-in-python-how-to-use-it-for-plotting/ \n",
    "\n",
    "5. What is numpy?. What is NumPy? - NumPy v1.22 Manual. (n.d.). Retrieved January 1, 2022, from https://numpy.org/doc/stable/user/whatisnumpy.html \n",
    "\n",
    "6. History. History - Matplotlib 3.5.1 documentation. (n.d.). Retrieved January 1, 2022, from https://matplotlib.org/stable/users/project/history.html \n",
    "\n",
    "7. Numpy.random.normal. numpy.random.normal - NumPy v1.22 Manual. (n.d.). Retrieved January 1, 2022, from https://numpy.org/doc/stable/reference/random/generated/numpy.random.normal.html \n",
    "\n",
    "8. Floud, R. (n.d.). Height, Weight and Body Mass of The British Population Since 1820. Retrieved January 1, 2022, from https://www.nber.org/system/files/working_papers/h0108/h0108.pdf \n",
    "\n",
    "9. Credits. Credits - Matplotlib 3.5.1 documentation. (n.d.). Retrieved January 1, 2022, from https://matplotlib.org/stable/users/project/credits.html \n",
    "\n",
    "10. An introduction to seaborn. An introduction to seaborn - seaborn 0.11.2 documentation. (n.d.). Retrieved January 1, 2022, from http://seaborn.pydata.org/introduction.html \n",
    "\n",
    "11. Real Python. (2021, May 15). Python plotting with matplotlib (guide). Real Python. Retrieved January 1, 2022, from https://realpython.com/python-matplotlib-guide/ \n",
    "\n",
    "12. Object-oriented Plotting.(n.d.). Retrieved January 1, 2022, from https://jakevdp.github.io/mpl_tutorial/tutorial_pages/tut2.html \n",
    "\n",
    "13. Jingwen Zheng. (2018, May 26). Introduction to matplotlib.pyplot. Jingwen Zheng. Retrieved January 1, 2022, from https://jingwen-z.github.io/introduction-to-matplotlibpyplot/ \n",
    "\n",
    "14. MATPLOTLIB.PYPLOT.TIGHT_LAYOUT. matplotlib.pyplot.tight_layout - Matplotlib 3.5.1 documentation. (n.d.). Retrieved January 1, 2022, from https://matplotlib.org/stable/api/_as_gen/matplotlib.pyplot.tight_layout.html \n",
    "\n",
    "15. Matplotlib.pyplot.xlabel. matplotlib.pyplot.xlabel - Matplotlib 3.5.1 documentation. (n.d.). Retrieved January 1, 2022, from https://matplotlib.org/stable/api/_as_gen/matplotlib.pyplot.xlabel.html \n",
    "\n",
    "16. Matplotlib.axes. matplotlib.axes - Matplotlib 3.5.1 documentation. (n.d.). Retrieved January 1, 2022, from https://matplotlib.org/stable/api/axes_api.html \n",
    "\n",
    "17. Matplotlib.pyplot.hist. matplotlib.pyplot.hist - Matplotlib 3.5.1 documentation. (n.d.). Retrieved January 1, 2022, from https://matplotlib.org/stable/api/_as_gen/matplotlib.pyplot.hist.html \n",
    "\n",
    "18. Format y axis as percent. Stack Overflow. Retrieved January 1, 2022, from https://stackoverflow.com/questions/31357611/format-y-axis-as-percent \n",
    "\n",
    "19. Numpy.random.poisson. numpy.random.poisson - NumPy v1.22 Manual. (n.d.). Retrieved January 1, 2022, from https://numpy.org/doc/stable/reference/random/generated/numpy.random.poisson.html \n",
    "\n",
    "20. Style sheets reference. Style sheets reference - Matplotlib 3.5.1 documentation. (n.d.). Retrieved January 1, 2022, from https://matplotlib.org/stable/gallery/style_sheets/style_sheets_reference.html \n",
    "\n",
    "21. Customizing matplotlib with style sheets and rcParams. Customizing Matplotlib with style sheets and rcParams - Matplotlib 3.5.1 documentation. (n.d.). Retrieved January 1, 2022, from https://matplotlib.org/stable/tutorials/introductory/customizing.html \n",
    "\n",
    "22. Plotting histogram in python using Matplotlib. GeeksforGeeks. (2021, July 29). Retrieved January 1, 2022, from https://www.geeksforgeeks.org/plotting-histogram-in-python-using-matplotlib/ \n",
    "\n",
    "23. What is a histogram? ASQ. (n.d.). Retrieved January 1, 2022, from https://asq.org/quality-resources/histogram \n",
    "\n",
    "24. Histograms. Histograms - Understanding the properties of histograms, what they show, and when and how to use them | Laerd Statistics. (n.d.). Retrieved January 1, 2022, from https://statistics.laerd.com/statistical-guides/understanding-histograms.php \n",
    "\n",
    "25. Normal distribution in statistics. Retrieved January 1, 2022, from https://statisticsbyjim.com/basics/normal-distribution/ \n",
    "\n",
    "26. UCI Machine Learning Repository: Iris data set. (n.d.). Retrieved January 1, 2022, from https://archive.ics.uci.edu/ml/datasets/iris \n",
    "\n",
    "27. PANDAS.READ_CSV. pandas.read_csv - pandas 1.3.5 documentation. (n.d.). Retrieved January 1, 2022, from https://pandas.pydata.org/docs/reference/api/pandas.read_csv.html \n",
    "\n",
    "28. Python String replace() Method. Python string replace() method. (n.d.). Retrieved January 1, 2022, from https://www.w3schools.com/python/ref_string_replace.asp \n",
    "\n",
    "29. Matplotlib.pyplot.scatter¶. matplotlib.pyplot.scatter - Matplotlib 3.5.1 documentation. (n.d.). Retrieved January 1, 2022, from https://matplotlib.org/stable/api/_as_gen/matplotlib.pyplot.scatter.html \n",
    "\n",
    "30. Pandas groupby scatter plot in a single plot. Stack Overflow. Retrieved January 1, 2022, from https://stackoverflow.com/questions/56394204/pandas-groupby-scatter-plot-in-a-single-plot \n",
    "\n",
    "31. How to change legend size with matplotlib.pyplot. Stack Overflow. Retrieved January 1, 2022, from https://stackoverflow.com/questions/7125009/how-to-change-legend-size-with-matplotlib-pyplot \n",
    "\n",
    "32. Matplotlib.pyplot.boxplot. Matplotlib 3.5.1 documentation. (n.d.). Retrieved January 1, 2022, from https://matplotlib.org/stable/api/_as_gen/matplotlib.pyplot.boxplot.html \n",
    "\n",
    "33. Galarnyk, M. (2020, July 6). Understanding Boxplots. Medium. Retrieved January 1, 2022, from https://towardsdatascience.com/understanding-boxplots-5e2df7bcbd51 \n",
    "\n",
    "34. Python matplotlib filled boxplots. Stack Overflow. Retrieved January 1, 2022, from https://stackoverflow.com/questions/20289091/python-matplotlib-filled-boxplots \n"
   ]
  },
  {
   "cell_type": "markdown",
   "id": "da2083e4-c614-4fd6-857a-6511805dff34",
   "metadata": {},
   "source": [
    "***\n",
    "# End"
   ]
  }
 ],
 "metadata": {
  "kernelspec": {
   "display_name": "Python 3",
   "language": "python",
   "name": "python3"
  },
  "language_info": {
   "codemirror_mode": {
    "name": "ipython",
    "version": 3
   },
   "file_extension": ".py",
   "mimetype": "text/x-python",
   "name": "python",
   "nbconvert_exporter": "python",
   "pygments_lexer": "ipython3",
   "version": "3.8.8"
  }
 },
 "nbformat": 4,
 "nbformat_minor": 5
}
