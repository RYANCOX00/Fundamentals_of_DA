{
 "cells": [
  {
   "cell_type": "markdown",
   "id": "af028527-6ab9-443b-86e8-cc794edeff78",
   "metadata": {},
   "source": [
    "# A comparison of CAO points between 2019, 2020, and 2021.\n",
    "***"
   ]
  },
  {
   "cell_type": "code",
   "execution_count": 1,
   "id": "dbdb8497-8198-4bd4-9dcc-0b521b22fcf8",
   "metadata": {},
   "outputs": [],
   "source": [
    "import pandas as pd\n",
    "import matplotlib.pyplot as plt\n",
    "import numpy as np\n",
    "import requests as rq\n",
    "import re\n",
    "import datetime as dt\n",
    "import urllib.request as urlrq\n",
    "#from scipy.stats import norm\n",
    "import seaborn as sns"
   ]
  },
  {
   "cell_type": "markdown",
   "id": "40ba309e-1431-4dc6-991f-f939985bc0ea",
   "metadata": {},
   "source": [
    "- How to load CAO points information from the CAO website.\n",
    "- A detailed comparison of CAO points in 2019, 2020, and 2021 using pandas\n",
    "\n",
    "***"
   ]
  },
  {
   "cell_type": "markdown",
   "id": "03ad48af-2d30-4b9e-9b81-af27f0fe8de6",
   "metadata": {},
   "source": [
    "#### Set plot parameters\n"
   ]
  },
  {
   "cell_type": "code",
   "execution_count": 79,
   "id": "0229450c-eb8e-432f-8e91-33fb9f1b6eca",
   "metadata": {},
   "outputs": [],
   "source": [
    "sns.set()\n",
    "plt.style.use('fivethirtyeight')\n",
    "plt.rcParams[\"figure.figsize\"] = (10,7)"
   ]
  },
  {
   "cell_type": "markdown",
   "id": "34aa97aa-4f8c-40bc-be0f-673104a493b9",
   "metadata": {},
   "source": [
    "<br>\n",
    "\n",
    "## Creating time stamps for file names"
   ]
  },
  {
   "cell_type": "code",
   "execution_count": 3,
   "id": "450c0b70-9b89-455e-9015-8e45f2e3741f",
   "metadata": {},
   "outputs": [],
   "source": [
    "# Getting the date and time as items in an array.\n",
    "now = dt.datetime.now()\n",
    "\n",
    "# Taking the string items and putting them in a string.\n",
    "strnow = now.strftime('%Y_%m_%d_%H%M')"
   ]
  },
  {
   "cell_type": "markdown",
   "id": "cee40e90-195b-4519-a963-d1f1678cc857",
   "metadata": {},
   "source": [
    "<br>\n",
    "\n",
    "## Obtaining the 2021 data from a html webpage.."
   ]
  },
  {
   "cell_type": "code",
   "execution_count": 4,
   "id": "000fe3fc-3fc4-4250-a331-3c4812656dfa",
   "metadata": {},
   "outputs": [],
   "source": [
    "# Pulling raw data from CAO - level 8 (2021) [1]\n",
    "CAO_2021 = rq.get(\"http://www2.cao.ie/points/l8.php\")\n"
   ]
  },
  {
   "cell_type": "code",
   "execution_count": 5,
   "id": "ed9caa2d-bdf8-4f4f-bfba-e03f329cb05e",
   "metadata": {},
   "outputs": [
    {
     "data": {
      "text/plain": [
       "<Response [200]>"
      ]
     },
     "execution_count": 5,
     "metadata": {},
     "output_type": "execute_result"
    }
   ],
   "source": [
    "# Identifying if they pull correctly (Response [200] means its good.)\n",
    "CAO_2021"
   ]
  },
  {
   "cell_type": "markdown",
   "id": "79498526-1d46-4ec4-84d9-b7450a11aa46",
   "metadata": {},
   "source": [
    "<br>\n",
    "\n",
    "#### Backing up original html data"
   ]
  },
  {
   "cell_type": "code",
   "execution_count": 6,
   "id": "d4ee1495-ce84-495a-a768-23006ec05952",
   "metadata": {},
   "outputs": [],
   "source": [
    "# Creating a path to backup original html data with time/date.\n",
    "original_data = \"data/cao2021_raw_\"+strnow+\".html\""
   ]
  },
  {
   "cell_type": "code",
   "execution_count": 7,
   "id": "aeb6f807-bc6b-4789-9b59-d292d2c6ab3d",
   "metadata": {},
   "outputs": [],
   "source": [
    "# Backing up the original html file.\n",
    "\n",
    "# Need to change the encoder to cp1252. \n",
    "CAO_2021.encoding = \"cp1252\" \n",
    "\n",
    "# Writing raw data to the path defined above - \"original-data\".\n",
    "with open (original_data, \"w\") as f:\n",
    "    f.write(CAO_2021.text)"
   ]
  },
  {
   "cell_type": "markdown",
   "id": "dbf2c927-b2b7-4d23-950a-9fa49a2a0feb",
   "metadata": {},
   "source": [
    "<br>\n",
    "\n",
    "#### Creating a regular expression to identify relevant lines"
   ]
  },
  {
   "cell_type": "code",
   "execution_count": 8,
   "id": "675556f0-6fb5-497f-984a-33a4abf466a5",
   "metadata": {},
   "outputs": [],
   "source": [
    "# Regular expression to match any line with a CAO number and wildcard thereafter. \n",
    "re_course = re.compile(\"[A-Z]{2}[0-9]{3}.*\")  # Compling the REGEX code in memory. "
   ]
  },
  {
   "cell_type": "markdown",
   "id": "9b0d2533-189d-4b10-ad60-647a7e765188",
   "metadata": {},
   "source": [
    "<br>\n",
    "\n",
    "#### Searching for relevant lines and writing to CSV file"
   ]
  },
  {
   "cell_type": "code",
   "execution_count": 9,
   "id": "55508003-03d0-4ac5-a2cf-8a9703bded93",
   "metadata": {},
   "outputs": [],
   "source": [
    "# Defining a path to output the 2021 date with time/date. \n",
    "path = \"data/cao2021_\"+strnow+\".csv\""
   ]
  },
  {
   "cell_type": "code",
   "execution_count": 10,
   "id": "b76cd9d2-e15b-4d3b-afd8-1374835657e7",
   "metadata": {},
   "outputs": [
    {
     "name": "stdout",
     "output_type": "stream",
     "text": [
      "\n",
      "Number of level 8 courses in 2021: 949\n",
      "\n"
     ]
    }
   ],
   "source": [
    "counter = 0  \n",
    "\n",
    "# Opening path to write to. \n",
    "with open (path, \"w\") as f:  \n",
    "\n",
    "    # Iterating through lines on CAO webpage. \n",
    "    for line in CAO_2021.iter_lines(): \n",
    "        \n",
    "        # Decoding each line on html page. \n",
    "        decoded = line.decode('cp1252') # error in the standard used. ISO standard didn't reckonise character '\\x96' on CM002.\n",
    "        \n",
    "        # Calling the Regex \n",
    "        if re_course.fullmatch(decoded):  \n",
    "            \n",
    "            # Slicing the line into groups\n",
    "            code = decoded[:5]\n",
    "            title = decoded[7:57]\n",
    "            p_1 = decoded[60:65]\n",
    "            p_2 = decoded[65:]\n",
    "            \n",
    "            # Joining each group with comma and writing each line to the path\n",
    "            f.write(code + \",\" + title + \",\" + p_1 + \",\" + p_2 +\"\\n\") \n",
    "            \n",
    "            counter +=1\n",
    "            \n",
    "print (\"\\nNumber of level 8 courses in 2021: {}\\n\".format(counter))"
   ]
  },
  {
   "cell_type": "markdown",
   "id": "c64ba2f8-0944-43f4-9bc1-4b794a391ce3",
   "metadata": {},
   "source": [
    "#### Calling the CSV file into a Pandas dataframe"
   ]
  },
  {
   "cell_type": "code",
   "execution_count": 11,
   "id": "20b3c7d3-7d38-4022-8603-4843f19edc16",
   "metadata": {},
   "outputs": [],
   "source": [
    "# Reading in data to dataframe. \n",
    "df2021 = pd.read_csv(path)\n",
    "\n",
    "# setting columns when I read in csv caused issues when concat the dataframes. \n",
    "df2021.columns = [\"Course Code\", \"Course Name\", \"2021 Round 1\", \"2021 Round 2\"]"
   ]
  },
  {
   "cell_type": "code",
   "execution_count": 12,
   "id": "e0c72048-4222-47ff-a6e7-bcf9ac1fd3b9",
   "metadata": {},
   "outputs": [
    {
     "data": {
      "text/html": [
       "<div>\n",
       "<style scoped>\n",
       "    .dataframe tbody tr th:only-of-type {\n",
       "        vertical-align: middle;\n",
       "    }\n",
       "\n",
       "    .dataframe tbody tr th {\n",
       "        vertical-align: top;\n",
       "    }\n",
       "\n",
       "    .dataframe thead th {\n",
       "        text-align: right;\n",
       "    }\n",
       "</style>\n",
       "<table border=\"1\" class=\"dataframe\">\n",
       "  <thead>\n",
       "    <tr style=\"text-align: right;\">\n",
       "      <th></th>\n",
       "      <th>Course Code</th>\n",
       "      <th>Course Name</th>\n",
       "      <th>2021 Round 1</th>\n",
       "      <th>2021 Round 2</th>\n",
       "    </tr>\n",
       "  </thead>\n",
       "  <tbody>\n",
       "    <tr>\n",
       "      <th>0</th>\n",
       "      <td>AL802</td>\n",
       "      <td>Software Design in Artificial Intelligence for...</td>\n",
       "      <td>313</td>\n",
       "      <td></td>\n",
       "    </tr>\n",
       "    <tr>\n",
       "      <th>1</th>\n",
       "      <td>AL803</td>\n",
       "      <td>Software Design for Mobile Apps and Connected ...</td>\n",
       "      <td>350</td>\n",
       "      <td></td>\n",
       "    </tr>\n",
       "    <tr>\n",
       "      <th>2</th>\n",
       "      <td>AL805</td>\n",
       "      <td>Computer Engineering for Network Infrastructur...</td>\n",
       "      <td>321</td>\n",
       "      <td></td>\n",
       "    </tr>\n",
       "    <tr>\n",
       "      <th>3</th>\n",
       "      <td>AL810</td>\n",
       "      <td>Quantity Surveying                            ...</td>\n",
       "      <td>328</td>\n",
       "      <td></td>\n",
       "    </tr>\n",
       "    <tr>\n",
       "      <th>4</th>\n",
       "      <td>AL811</td>\n",
       "      <td>Civil Engineering                             ...</td>\n",
       "      <td></td>\n",
       "      <td></td>\n",
       "    </tr>\n",
       "    <tr>\n",
       "      <th>...</th>\n",
       "      <td>...</td>\n",
       "      <td>...</td>\n",
       "      <td>...</td>\n",
       "      <td>...</td>\n",
       "    </tr>\n",
       "    <tr>\n",
       "      <th>943</th>\n",
       "      <td>WD211</td>\n",
       "      <td>Creative Computing                            ...</td>\n",
       "      <td>270</td>\n",
       "      <td></td>\n",
       "    </tr>\n",
       "    <tr>\n",
       "      <th>944</th>\n",
       "      <td>WD212</td>\n",
       "      <td>Recreation and Sport Management               ...</td>\n",
       "      <td>262</td>\n",
       "      <td></td>\n",
       "    </tr>\n",
       "    <tr>\n",
       "      <th>945</th>\n",
       "      <td>WD230</td>\n",
       "      <td>Mechanical and Manufacturing Engineering      ...</td>\n",
       "      <td>230</td>\n",
       "      <td>230</td>\n",
       "    </tr>\n",
       "    <tr>\n",
       "      <th>946</th>\n",
       "      <td>WD231</td>\n",
       "      <td>Early Childhood Care and Education            ...</td>\n",
       "      <td>266</td>\n",
       "      <td></td>\n",
       "    </tr>\n",
       "    <tr>\n",
       "      <th>947</th>\n",
       "      <td>WD232</td>\n",
       "      <td>Business Information Systems                  ...</td>\n",
       "      <td>261</td>\n",
       "      <td>261</td>\n",
       "    </tr>\n",
       "  </tbody>\n",
       "</table>\n",
       "<p>948 rows × 4 columns</p>\n",
       "</div>"
      ],
      "text/plain": [
       "    Course Code                                        Course Name  \\\n",
       "0         AL802  Software Design in Artificial Intelligence for...   \n",
       "1         AL803  Software Design for Mobile Apps and Connected ...   \n",
       "2         AL805  Computer Engineering for Network Infrastructur...   \n",
       "3         AL810  Quantity Surveying                            ...   \n",
       "4         AL811  Civil Engineering                             ...   \n",
       "..          ...                                                ...   \n",
       "943       WD211  Creative Computing                            ...   \n",
       "944       WD212  Recreation and Sport Management               ...   \n",
       "945       WD230  Mechanical and Manufacturing Engineering      ...   \n",
       "946       WD231  Early Childhood Care and Education            ...   \n",
       "947       WD232  Business Information Systems                  ...   \n",
       "\n",
       "    2021 Round 1                              2021 Round 2  \n",
       "0          313                                              \n",
       "1          350                                              \n",
       "2          321                                              \n",
       "3          328                                              \n",
       "4                                                           \n",
       "..           ...                                       ...  \n",
       "943        270                                              \n",
       "944        262                                              \n",
       "945        230                                         230  \n",
       "946        266                                              \n",
       "947        261        261                                   \n",
       "\n",
       "[948 rows x 4 columns]"
      ]
     },
     "execution_count": 12,
     "metadata": {},
     "output_type": "execute_result"
    }
   ],
   "source": [
    "df2021"
   ]
  },
  {
   "cell_type": "markdown",
   "id": "14d3b54d-88b2-4a8d-8b07-e1618599d577",
   "metadata": {},
   "source": [
    "***"
   ]
  },
  {
   "cell_type": "markdown",
   "id": "522c584c-b5cc-45fa-b8ac-139cd1fe92ba",
   "metadata": {},
   "source": [
    "<br>\n",
    "\n",
    "## Obtaining the 2020 data from an Excel file."
   ]
  },
  {
   "cell_type": "markdown",
   "id": "a570d060-8283-462f-aa2f-c7a708819375",
   "metadata": {},
   "source": [
    "The 2020 CAO data is on an excel spreadsheet on the CAO website.  After backing the original data up, I will read it in using Pandas."
   ]
  },
  {
   "cell_type": "code",
   "execution_count": null,
   "id": "400d578e-bbae-4ed9-9666-943854cb353a",
   "metadata": {},
   "outputs": [],
   "source": []
  },
  {
   "cell_type": "markdown",
   "id": "530c8bcf-0536-45ab-80fe-562d704a2b6f",
   "metadata": {},
   "source": [
    "#### Backing up original Excel file"
   ]
  },
  {
   "cell_type": "code",
   "execution_count": 13,
   "id": "94555cc4-d998-4512-acfa-29817d2ddd1c",
   "metadata": {},
   "outputs": [],
   "source": [
    "# Creating a path from original data backup.\n",
    "original_data = \"data/cao2020_raw_\"+strnow+\".xlsx\""
   ]
  },
  {
   "cell_type": "code",
   "execution_count": 14,
   "id": "3a7a16fb-2d67-4167-bbf4-fc31df3c527b",
   "metadata": {},
   "outputs": [
    {
     "data": {
      "text/plain": [
       "('data/cao2020_raw_2021_12_14_2030.xlsx',\n",
       " <http.client.HTTPMessage at 0x1bc8dd39760>)"
      ]
     },
     "execution_count": 14,
     "metadata": {},
     "output_type": "execute_result"
    }
   ],
   "source": [
    "# saving url of Excel file as a variable.\n",
    "url = \"http://www2.cao.ie/points/CAOPointsCharts2020.xlsx\"\n",
    "\n",
    "# Using urllib function pull the original excel file and back up to the path above.\n",
    "urlrq.urlretrieve(url, original_data)"
   ]
  },
  {
   "cell_type": "markdown",
   "id": "e6ab0c30-f90a-4d60-91e4-ce4c3e9a7166",
   "metadata": {},
   "source": [
    "<br>\n",
    "\n",
    "#### Reading Excel file into a Pandas dataframe."
   ]
  },
  {
   "cell_type": "code",
   "execution_count": 15,
   "id": "b9c8bc56-f144-4dd7-8100-05c3d6caec13",
   "metadata": {},
   "outputs": [],
   "source": [
    "# Reading in the excel file to a pandas dataframe, skipping first 10 rows.\n",
    "df = pd.read_excel(\"http://www2.cao.ie/points/CAOPointsCharts2020.xlsx\", skiprows=10)\n",
    "\n",
    "# Creating new dataframe with only the relevant columns.\n",
    "df2020 = df[[\"COURSE CODE2\",\"COURSE TITLE\", \"R1 POINTS\", \"R2 POINTS\"]]# Ref: [10]\n",
    "df2020.columns = [\"Course Code\", \"Course Name\", \"2020 Round 1\", \"2020 Round 2\"]"
   ]
  },
  {
   "cell_type": "markdown",
   "id": "59b23aed-fbbf-46ce-9322-d3152257bd55",
   "metadata": {},
   "source": [
    "<br>\n",
    "\n",
    "#### Spot checking dataframe"
   ]
  },
  {
   "cell_type": "code",
   "execution_count": 16,
   "id": "de31e856-1091-47d6-a111-f399f98f2f1f",
   "metadata": {},
   "outputs": [
    {
     "data": {
      "text/html": [
       "<div>\n",
       "<style scoped>\n",
       "    .dataframe tbody tr th:only-of-type {\n",
       "        vertical-align: middle;\n",
       "    }\n",
       "\n",
       "    .dataframe tbody tr th {\n",
       "        vertical-align: top;\n",
       "    }\n",
       "\n",
       "    .dataframe thead th {\n",
       "        text-align: right;\n",
       "    }\n",
       "</style>\n",
       "<table border=\"1\" class=\"dataframe\">\n",
       "  <thead>\n",
       "    <tr style=\"text-align: right;\">\n",
       "      <th></th>\n",
       "      <th>Course Code</th>\n",
       "      <th>Course Name</th>\n",
       "      <th>2020 Round 1</th>\n",
       "      <th>2020 Round 2</th>\n",
       "    </tr>\n",
       "  </thead>\n",
       "  <tbody>\n",
       "    <tr>\n",
       "      <th>0</th>\n",
       "      <td>AC120</td>\n",
       "      <td>International Business</td>\n",
       "      <td>209</td>\n",
       "      <td>NaN</td>\n",
       "    </tr>\n",
       "    <tr>\n",
       "      <th>1</th>\n",
       "      <td>AC137</td>\n",
       "      <td>Liberal Arts</td>\n",
       "      <td>252</td>\n",
       "      <td>NaN</td>\n",
       "    </tr>\n",
       "    <tr>\n",
       "      <th>2</th>\n",
       "      <td>AD101</td>\n",
       "      <td>First Year Art &amp; Design (Common Entry,portfolio)</td>\n",
       "      <td>#+matric</td>\n",
       "      <td>NaN</td>\n",
       "    </tr>\n",
       "    <tr>\n",
       "      <th>3</th>\n",
       "      <td>AD102</td>\n",
       "      <td>Graphic Design and Moving Image Design (portfo...</td>\n",
       "      <td>#+matric</td>\n",
       "      <td>NaN</td>\n",
       "    </tr>\n",
       "    <tr>\n",
       "      <th>4</th>\n",
       "      <td>AD103</td>\n",
       "      <td>Textile &amp; Surface Design and Jewellery &amp; Objec...</td>\n",
       "      <td>#+matric</td>\n",
       "      <td>NaN</td>\n",
       "    </tr>\n",
       "    <tr>\n",
       "      <th>...</th>\n",
       "      <td>...</td>\n",
       "      <td>...</td>\n",
       "      <td>...</td>\n",
       "      <td>...</td>\n",
       "    </tr>\n",
       "    <tr>\n",
       "      <th>1459</th>\n",
       "      <td>WD208</td>\n",
       "      <td>Manufacturing Engineering</td>\n",
       "      <td>188</td>\n",
       "      <td>NaN</td>\n",
       "    </tr>\n",
       "    <tr>\n",
       "      <th>1460</th>\n",
       "      <td>WD210</td>\n",
       "      <td>Software Systems Development</td>\n",
       "      <td>279</td>\n",
       "      <td>NaN</td>\n",
       "    </tr>\n",
       "    <tr>\n",
       "      <th>1461</th>\n",
       "      <td>WD211</td>\n",
       "      <td>Creative Computing</td>\n",
       "      <td>271</td>\n",
       "      <td>NaN</td>\n",
       "    </tr>\n",
       "    <tr>\n",
       "      <th>1462</th>\n",
       "      <td>WD212</td>\n",
       "      <td>Recreation and Sport Management</td>\n",
       "      <td>270</td>\n",
       "      <td>NaN</td>\n",
       "    </tr>\n",
       "    <tr>\n",
       "      <th>1463</th>\n",
       "      <td>WD230</td>\n",
       "      <td>Mechanical and Manufacturing Engineering</td>\n",
       "      <td>253</td>\n",
       "      <td>NaN</td>\n",
       "    </tr>\n",
       "  </tbody>\n",
       "</table>\n",
       "<p>1464 rows × 4 columns</p>\n",
       "</div>"
      ],
      "text/plain": [
       "     Course Code                                        Course Name  \\\n",
       "0          AC120                             International Business   \n",
       "1          AC137                                       Liberal Arts   \n",
       "2          AD101   First Year Art & Design (Common Entry,portfolio)   \n",
       "3          AD102  Graphic Design and Moving Image Design (portfo...   \n",
       "4          AD103  Textile & Surface Design and Jewellery & Objec...   \n",
       "...          ...                                                ...   \n",
       "1459       WD208                          Manufacturing Engineering   \n",
       "1460       WD210                       Software Systems Development   \n",
       "1461       WD211                                 Creative Computing   \n",
       "1462       WD212                    Recreation and Sport Management   \n",
       "1463       WD230           Mechanical and Manufacturing Engineering   \n",
       "\n",
       "     2020 Round 1 2020 Round 2  \n",
       "0             209          NaN  \n",
       "1             252          NaN  \n",
       "2        #+matric          NaN  \n",
       "3        #+matric          NaN  \n",
       "4        #+matric          NaN  \n",
       "...           ...          ...  \n",
       "1459          188          NaN  \n",
       "1460          279          NaN  \n",
       "1461          271          NaN  \n",
       "1462          270          NaN  \n",
       "1463          253          NaN  \n",
       "\n",
       "[1464 rows x 4 columns]"
      ]
     },
     "execution_count": 16,
     "metadata": {},
     "output_type": "execute_result"
    }
   ],
   "source": [
    "# printing the dataframe and checking the number of rows.  Excel file has 1464. \n",
    "df2020"
   ]
  },
  {
   "cell_type": "code",
   "execution_count": 17,
   "id": "d2bf7aec-fee6-4d2e-afdd-a551b516a182",
   "metadata": {},
   "outputs": [
    {
     "data": {
      "text/html": [
       "<div>\n",
       "<style scoped>\n",
       "    .dataframe tbody tr th:only-of-type {\n",
       "        vertical-align: middle;\n",
       "    }\n",
       "\n",
       "    .dataframe tbody tr th {\n",
       "        vertical-align: top;\n",
       "    }\n",
       "\n",
       "    .dataframe thead th {\n",
       "        text-align: right;\n",
       "    }\n",
       "</style>\n",
       "<table border=\"1\" class=\"dataframe\">\n",
       "  <thead>\n",
       "    <tr style=\"text-align: right;\">\n",
       "      <th></th>\n",
       "      <th>Course Code</th>\n",
       "      <th>Course Name</th>\n",
       "      <th>2020 Round 1</th>\n",
       "      <th>2020 Round 2</th>\n",
       "    </tr>\n",
       "  </thead>\n",
       "  <tbody>\n",
       "    <tr>\n",
       "      <th>123</th>\n",
       "      <td>CK401</td>\n",
       "      <td>Computer Science</td>\n",
       "      <td>468</td>\n",
       "      <td>NaN</td>\n",
       "    </tr>\n",
       "    <tr>\n",
       "      <th>1460</th>\n",
       "      <td>WD210</td>\n",
       "      <td>Software Systems Development</td>\n",
       "      <td>279</td>\n",
       "      <td>NaN</td>\n",
       "    </tr>\n",
       "  </tbody>\n",
       "</table>\n",
       "</div>"
      ],
      "text/plain": [
       "     Course Code                   Course Name 2020 Round 1 2020 Round 2\n",
       "123        CK401              Computer Science          468          NaN\n",
       "1460       WD210  Software Systems Development          279          NaN"
      ]
     },
     "execution_count": 17,
     "metadata": {},
     "output_type": "execute_result"
    }
   ],
   "source": [
    "# Spot checking random rows\n",
    "df2020.iloc[[123, 1460]]"
   ]
  },
  {
   "cell_type": "markdown",
   "id": "7ec7716c-5e41-41a3-a9aa-e86980a64d6d",
   "metadata": {},
   "source": [
    "1. Item at row 123 on df should be row 135 on original excel file - (CK401). \n",
    "2. Item at row 1460 on df should be row 1472 on orignal excel file - (WD210).\n",
    "\n",
    "- Minus 10 from skipped rows.\n",
    "- Minus 1 as we don't include column names.\n",
    "- Minus 1 as df starts at row 0, excel starts at row 1. \n",
    "\n",
    "<br>"
   ]
  },
  {
   "cell_type": "markdown",
   "id": "63a551ad-1fc6-406b-8a3f-a2a11b3e1449",
   "metadata": {},
   "source": [
    "#### Backing up the relevant CAO 2020 data to a CSV file."
   ]
  },
  {
   "cell_type": "code",
   "execution_count": 18,
   "id": "17910e85-dc34-4922-9510-60c80a553c49",
   "metadata": {},
   "outputs": [],
   "source": [
    "# Defining a path.\n",
    "path_2019 = \"data/cao2020_\" + strnow + \".csv\"\n",
    "\n",
    "# Outputing to CSV.\n",
    "df2020.to_csv(path_2019)"
   ]
  },
  {
   "cell_type": "markdown",
   "id": "5e568f2b-3aa1-4f2d-b69c-58d2baeb69e9",
   "metadata": {},
   "source": [
    "Theres a lot more courses in 2020.  Need to consider whether to include addional courses with no points assigned. \n",
    "or consider only analysing the courses with points assigned across 3 years. \n",
    "***"
   ]
  },
  {
   "cell_type": "markdown",
   "id": "0e442819-9947-4d9a-8283-85898e554201",
   "metadata": {},
   "source": [
    "<br>\n",
    "\n",
    "## Obtaining the 2019 data from a PDF file."
   ]
  },
  {
   "cell_type": "markdown",
   "id": "5f02302e-d491-479a-9f94-bdfdae2bddb7",
   "metadata": {},
   "source": [
    "#### Steps to prepare the CAO 2019 data."
   ]
  },
  {
   "cell_type": "markdown",
   "id": "434d6d5d-2549-4a9e-8fe6-584c0d01f935",
   "metadata": {},
   "source": [
    "1. Save the PDF file to the local data folder.\n",
    "2. Open in Microsoft Word and save original version of the word doc.\n",
    "3. Save a 'workings' copy.\n",
    "4. Delete header, footer and preamble.\n",
    "5. Copy all data and paste into Notepad ++\n",
    "6. Remove HEI name headings, and blank lines.\n",
    "7. Find \"\\t\\t\" and replace with \"\\t\".\n",
    "8. Replace backtick \"`\" with single quote \"'\"\n",
    "9. Read in to Jupyter Notebook with sep='t' and only first 4 columns.\n",
    "10. Fix any errors on the CSV file. \n"
   ]
  },
  {
   "cell_type": "markdown",
   "id": "5848abd9-828e-450e-94cd-c871b3250f5e",
   "metadata": {},
   "source": [
    "<br>\n",
    "\n",
    "#### Reading in 2019 Data."
   ]
  },
  {
   "cell_type": "code",
   "execution_count": 19,
   "id": "7ea07104-4d2d-482e-a413-3f0fc8e28523",
   "metadata": {},
   "outputs": [],
   "source": [
    "# Defining the path variable\n",
    "path_2019 = \"data\\cao2019_dataset.csv\"\n",
    "\n",
    "# Reading in columns 1-4. [11]\n",
    "df2019 = pd.read_csv(path_2019, sep='\\t', usecols =[0,1,2])"
   ]
  },
  {
   "cell_type": "code",
   "execution_count": 20,
   "id": "7b6f6c50-ba38-4694-901b-808162f42179",
   "metadata": {},
   "outputs": [],
   "source": [
    "# Creating an empty column so that all dataframes have same column headings\n",
    "df2019.insert(3, 'new-col', 0)\n",
    "df2019.columns = [\"Course Code\", \"Course Name\", \"2019 Round 1\", \"2019 Round 2\"]"
   ]
  },
  {
   "cell_type": "code",
   "execution_count": 21,
   "id": "fe86c839-cd0f-4979-97a2-e68b9889572b",
   "metadata": {},
   "outputs": [
    {
     "data": {
      "text/html": [
       "<div>\n",
       "<style scoped>\n",
       "    .dataframe tbody tr th:only-of-type {\n",
       "        vertical-align: middle;\n",
       "    }\n",
       "\n",
       "    .dataframe tbody tr th {\n",
       "        vertical-align: top;\n",
       "    }\n",
       "\n",
       "    .dataframe thead th {\n",
       "        text-align: right;\n",
       "    }\n",
       "</style>\n",
       "<table border=\"1\" class=\"dataframe\">\n",
       "  <thead>\n",
       "    <tr style=\"text-align: right;\">\n",
       "      <th></th>\n",
       "      <th>Course Code</th>\n",
       "      <th>Course Name</th>\n",
       "      <th>2019 Round 1</th>\n",
       "      <th>2019 Round 2</th>\n",
       "    </tr>\n",
       "  </thead>\n",
       "  <tbody>\n",
       "    <tr>\n",
       "      <th>0</th>\n",
       "      <td>AL801</td>\n",
       "      <td>Software Design with Virtual Reality and Gaming</td>\n",
       "      <td>304</td>\n",
       "      <td>0</td>\n",
       "    </tr>\n",
       "    <tr>\n",
       "      <th>1</th>\n",
       "      <td>AL802</td>\n",
       "      <td>Software Design with Cloud Computing</td>\n",
       "      <td>301</td>\n",
       "      <td>0</td>\n",
       "    </tr>\n",
       "    <tr>\n",
       "      <th>2</th>\n",
       "      <td>AL803</td>\n",
       "      <td>Software Design with Mobile Apps and Connected...</td>\n",
       "      <td>309</td>\n",
       "      <td>0</td>\n",
       "    </tr>\n",
       "    <tr>\n",
       "      <th>3</th>\n",
       "      <td>AL805</td>\n",
       "      <td>Network Management and Cloud Infrastructure</td>\n",
       "      <td>329</td>\n",
       "      <td>0</td>\n",
       "    </tr>\n",
       "    <tr>\n",
       "      <th>4</th>\n",
       "      <td>AL810</td>\n",
       "      <td>Quantity Surveying</td>\n",
       "      <td>307</td>\n",
       "      <td>0</td>\n",
       "    </tr>\n",
       "    <tr>\n",
       "      <th>...</th>\n",
       "      <td>...</td>\n",
       "      <td>...</td>\n",
       "      <td>...</td>\n",
       "      <td>...</td>\n",
       "    </tr>\n",
       "    <tr>\n",
       "      <th>925</th>\n",
       "      <td>WD200</td>\n",
       "      <td>Arts (options)</td>\n",
       "      <td>221</td>\n",
       "      <td>0</td>\n",
       "    </tr>\n",
       "    <tr>\n",
       "      <th>926</th>\n",
       "      <td>WD210</td>\n",
       "      <td>Software Systems Development</td>\n",
       "      <td>271</td>\n",
       "      <td>0</td>\n",
       "    </tr>\n",
       "    <tr>\n",
       "      <th>927</th>\n",
       "      <td>WD211</td>\n",
       "      <td>Creative Computing</td>\n",
       "      <td>275</td>\n",
       "      <td>0</td>\n",
       "    </tr>\n",
       "    <tr>\n",
       "      <th>928</th>\n",
       "      <td>WD212</td>\n",
       "      <td>Recreation and Sport Management</td>\n",
       "      <td>274</td>\n",
       "      <td>0</td>\n",
       "    </tr>\n",
       "    <tr>\n",
       "      <th>929</th>\n",
       "      <td>WD230</td>\n",
       "      <td>Mechanical and Manufacturing Engineering</td>\n",
       "      <td>273</td>\n",
       "      <td>0</td>\n",
       "    </tr>\n",
       "  </tbody>\n",
       "</table>\n",
       "<p>930 rows × 4 columns</p>\n",
       "</div>"
      ],
      "text/plain": [
       "    Course Code                                        Course Name  \\\n",
       "0         AL801    Software Design with Virtual Reality and Gaming   \n",
       "1         AL802               Software Design with Cloud Computing   \n",
       "2         AL803  Software Design with Mobile Apps and Connected...   \n",
       "3         AL805        Network Management and Cloud Infrastructure   \n",
       "4         AL810                                 Quantity Surveying   \n",
       "..          ...                                                ...   \n",
       "925       WD200                                     Arts (options)   \n",
       "926       WD210                       Software Systems Development   \n",
       "927       WD211                                 Creative Computing   \n",
       "928       WD212                    Recreation and Sport Management   \n",
       "929       WD230           Mechanical and Manufacturing Engineering   \n",
       "\n",
       "    2019 Round 1  2019 Round 2  \n",
       "0            304             0  \n",
       "1            301             0  \n",
       "2            309             0  \n",
       "3            329             0  \n",
       "4            307             0  \n",
       "..           ...           ...  \n",
       "925          221             0  \n",
       "926          271             0  \n",
       "927          275             0  \n",
       "928          274             0  \n",
       "929          273             0  \n",
       "\n",
       "[930 rows x 4 columns]"
      ]
     },
     "execution_count": 21,
     "metadata": {},
     "output_type": "execute_result"
    }
   ],
   "source": [
    "df2019"
   ]
  },
  {
   "cell_type": "code",
   "execution_count": null,
   "id": "2237769f-3f0c-4a58-ae38-79a2100fb22d",
   "metadata": {},
   "outputs": [],
   "source": []
  },
  {
   "cell_type": "markdown",
   "id": "fa9283b9-88ef-45ec-b4bf-01d3fb51268c",
   "metadata": {},
   "source": [
    "***"
   ]
  },
  {
   "cell_type": "markdown",
   "id": "bf721e4b-3cfe-4c63-bb4a-cd9ab6b5ea87",
   "metadata": {},
   "source": [
    "## Joining Dataframes"
   ]
  },
  {
   "cell_type": "markdown",
   "id": "c4a5892e-db96-4f9c-9693-ec9363b9dc09",
   "metadata": {},
   "source": [
    "## Adding course codes and names to one dataframe and finding duplicates"
   ]
  },
  {
   "cell_type": "code",
   "execution_count": 22,
   "id": "cb4e4cab-98f6-418f-bfca-9c1e85dcfef1",
   "metadata": {},
   "outputs": [],
   "source": [
    "# Indexing the course code and course name\n",
    "courses2021 = df2021[['Course Code', 'Course Name']]\n",
    "courses2020 = df2020[['Course Code', 'Course Name']]\n",
    "courses2019 = df2019[['Course Code', 'Course Name']]"
   ]
  },
  {
   "cell_type": "code",
   "execution_count": 23,
   "id": "08c97032-0da4-424b-8af7-9b54e57ea4f1",
   "metadata": {},
   "outputs": [],
   "source": [
    "# Adding code and course name to 1 dataframe by the concat function.\n",
    "all_courses = pd.concat([courses2021, courses2020, courses2019], ignore_index=True)"
   ]
  },
  {
   "cell_type": "code",
   "execution_count": 24,
   "id": "7dd35064-c98c-401f-93fb-d08f7b1e1463",
   "metadata": {},
   "outputs": [
    {
     "data": {
      "text/html": [
       "<div>\n",
       "<style scoped>\n",
       "    .dataframe tbody tr th:only-of-type {\n",
       "        vertical-align: middle;\n",
       "    }\n",
       "\n",
       "    .dataframe tbody tr th {\n",
       "        vertical-align: top;\n",
       "    }\n",
       "\n",
       "    .dataframe thead th {\n",
       "        text-align: right;\n",
       "    }\n",
       "</style>\n",
       "<table border=\"1\" class=\"dataframe\">\n",
       "  <thead>\n",
       "    <tr style=\"text-align: right;\">\n",
       "      <th></th>\n",
       "      <th>Course Code</th>\n",
       "      <th>Course Name</th>\n",
       "    </tr>\n",
       "  </thead>\n",
       "  <tbody>\n",
       "    <tr>\n",
       "      <th>174</th>\n",
       "      <td>AC120</td>\n",
       "      <td>International Business                        ...</td>\n",
       "    </tr>\n",
       "    <tr>\n",
       "      <th>948</th>\n",
       "      <td>AC120</td>\n",
       "      <td>International Business</td>\n",
       "    </tr>\n",
       "    <tr>\n",
       "      <th>2580</th>\n",
       "      <td>AC120</td>\n",
       "      <td>International Business</td>\n",
       "    </tr>\n",
       "    <tr>\n",
       "      <th>949</th>\n",
       "      <td>AC137</td>\n",
       "      <td>Liberal Arts</td>\n",
       "    </tr>\n",
       "    <tr>\n",
       "      <th>2581</th>\n",
       "      <td>AC137</td>\n",
       "      <td>Liberal Arts</td>\n",
       "    </tr>\n",
       "    <tr>\n",
       "      <th>...</th>\n",
       "      <td>...</td>\n",
       "      <td>...</td>\n",
       "    </tr>\n",
       "    <tr>\n",
       "      <th>2411</th>\n",
       "      <td>WD230</td>\n",
       "      <td>Mechanical and Manufacturing Engineering</td>\n",
       "    </tr>\n",
       "    <tr>\n",
       "      <th>945</th>\n",
       "      <td>WD230</td>\n",
       "      <td>Mechanical and Manufacturing Engineering      ...</td>\n",
       "    </tr>\n",
       "    <tr>\n",
       "      <th>3341</th>\n",
       "      <td>WD230</td>\n",
       "      <td>Mechanical and Manufacturing Engineering</td>\n",
       "    </tr>\n",
       "    <tr>\n",
       "      <th>946</th>\n",
       "      <td>WD231</td>\n",
       "      <td>Early Childhood Care and Education            ...</td>\n",
       "    </tr>\n",
       "    <tr>\n",
       "      <th>947</th>\n",
       "      <td>WD232</td>\n",
       "      <td>Business Information Systems                  ...</td>\n",
       "    </tr>\n",
       "  </tbody>\n",
       "</table>\n",
       "<p>3342 rows × 2 columns</p>\n",
       "</div>"
      ],
      "text/plain": [
       "     Course Code                                        Course Name\n",
       "174        AC120  International Business                        ...\n",
       "948        AC120                             International Business\n",
       "2580       AC120                             International Business\n",
       "949        AC137                                       Liberal Arts\n",
       "2581       AC137                                       Liberal Arts\n",
       "...          ...                                                ...\n",
       "2411       WD230           Mechanical and Manufacturing Engineering\n",
       "945        WD230  Mechanical and Manufacturing Engineering      ...\n",
       "3341       WD230           Mechanical and Manufacturing Engineering\n",
       "946        WD231  Early Childhood Care and Education            ...\n",
       "947        WD232  Business Information Systems                  ...\n",
       "\n",
       "[3342 rows x 2 columns]"
      ]
     },
     "execution_count": 24,
     "metadata": {},
     "output_type": "execute_result"
    }
   ],
   "source": [
    "# Sorting by course code to see they're duplicated [16]\n",
    "all_courses.sort_values(\"Course Code\")"
   ]
  },
  {
   "cell_type": "code",
   "execution_count": 25,
   "id": "c6f6cda6-72b5-431a-a7e8-6dc4d415797a",
   "metadata": {},
   "outputs": [],
   "source": [
    "# Removing duplicated courses by course code and names may have discrepancies. [15]\n",
    "# Amending original dataframe and resetting the index. \n",
    "all_courses.drop_duplicates(subset=['Course Code'], inplace=True, ignore_index=True)"
   ]
  },
  {
   "cell_type": "code",
   "execution_count": null,
   "id": "64cd366d-deac-4d96-b112-b7da943bd22f",
   "metadata": {},
   "outputs": [],
   "source": []
  },
  {
   "cell_type": "markdown",
   "id": "75380998-0818-4ffb-a6ea-bb8d7d210c68",
   "metadata": {},
   "source": [
    "## Joining the points from each year as an additional column"
   ]
  },
  {
   "cell_type": "code",
   "execution_count": 26,
   "id": "ca1af5ae-9b3e-4260-90a0-2de54cbb62f6",
   "metadata": {},
   "outputs": [],
   "source": [
    "# Setting the index to the Course code as this is the basis for the .function used below [14]\n",
    "all_courses.set_index(\"Course Code\", inplace=True)"
   ]
  },
  {
   "cell_type": "code",
   "execution_count": 27,
   "id": "914ad74f-afea-48e5-b496-68892beb9dc6",
   "metadata": {},
   "outputs": [],
   "source": [
    "# Setting the index for each year to the Course Code\n",
    "df2021.set_index(\"Course Code\", inplace=True)\n",
    "df2020.set_index(\"Course Code\", inplace=True)\n",
    "df2019.set_index(\"Course Code\", inplace=True)"
   ]
  },
  {
   "cell_type": "code",
   "execution_count": 28,
   "id": "4752fdd6-65ca-43da-9934-503ff3ffbe11",
   "metadata": {},
   "outputs": [],
   "source": [
    "# Theres no inplace parameter for the .join function.  Re-assigning variable. \n",
    "all_courses = all_courses.join(df2021[[\"2021 Round 1\", \"2021 Round 2\"]])\n",
    "all_courses = all_courses.join(df2020[[\"2020 Round 1\", \"2020 Round 2\"]])\n",
    "all_courses = all_courses.join(df2019[[\"2019 Round 1\"]]) # Round 2 not available. "
   ]
  },
  {
   "cell_type": "code",
   "execution_count": 29,
   "id": "a88bea34-14a4-4df3-8a3d-df42d8b0f836",
   "metadata": {},
   "outputs": [
    {
     "data": {
      "text/html": [
       "<div>\n",
       "<style scoped>\n",
       "    .dataframe tbody tr th:only-of-type {\n",
       "        vertical-align: middle;\n",
       "    }\n",
       "\n",
       "    .dataframe tbody tr th {\n",
       "        vertical-align: top;\n",
       "    }\n",
       "\n",
       "    .dataframe thead th {\n",
       "        text-align: right;\n",
       "    }\n",
       "</style>\n",
       "<table border=\"1\" class=\"dataframe\">\n",
       "  <thead>\n",
       "    <tr style=\"text-align: right;\">\n",
       "      <th></th>\n",
       "      <th>Course Name</th>\n",
       "      <th>2021 Round 1</th>\n",
       "      <th>2021 Round 2</th>\n",
       "      <th>2020 Round 1</th>\n",
       "      <th>2020 Round 2</th>\n",
       "      <th>2019 Round 1</th>\n",
       "    </tr>\n",
       "    <tr>\n",
       "      <th>Course Code</th>\n",
       "      <th></th>\n",
       "      <th></th>\n",
       "      <th></th>\n",
       "      <th></th>\n",
       "      <th></th>\n",
       "      <th></th>\n",
       "    </tr>\n",
       "  </thead>\n",
       "  <tbody>\n",
       "    <tr>\n",
       "      <th>AL802</th>\n",
       "      <td>Software Design in Artificial Intelligence for...</td>\n",
       "      <td>313</td>\n",
       "      <td></td>\n",
       "      <td>332</td>\n",
       "      <td>NaN</td>\n",
       "      <td>301</td>\n",
       "    </tr>\n",
       "    <tr>\n",
       "      <th>AL803</th>\n",
       "      <td>Software Design for Mobile Apps and Connected ...</td>\n",
       "      <td>350</td>\n",
       "      <td></td>\n",
       "      <td>337</td>\n",
       "      <td>NaN</td>\n",
       "      <td>309</td>\n",
       "    </tr>\n",
       "    <tr>\n",
       "      <th>AL805</th>\n",
       "      <td>Computer Engineering for Network Infrastructur...</td>\n",
       "      <td>321</td>\n",
       "      <td></td>\n",
       "      <td>333</td>\n",
       "      <td>NaN</td>\n",
       "      <td>329</td>\n",
       "    </tr>\n",
       "    <tr>\n",
       "      <th>AL810</th>\n",
       "      <td>Quantity Surveying                            ...</td>\n",
       "      <td>328</td>\n",
       "      <td></td>\n",
       "      <td>319</td>\n",
       "      <td>NaN</td>\n",
       "      <td>307</td>\n",
       "    </tr>\n",
       "    <tr>\n",
       "      <th>AL811</th>\n",
       "      <td>Civil Engineering                             ...</td>\n",
       "      <td></td>\n",
       "      <td></td>\n",
       "      <td>320</td>\n",
       "      <td>NaN</td>\n",
       "      <td>NaN</td>\n",
       "    </tr>\n",
       "    <tr>\n",
       "      <th>...</th>\n",
       "      <td>...</td>\n",
       "      <td>...</td>\n",
       "      <td>...</td>\n",
       "      <td>...</td>\n",
       "      <td>...</td>\n",
       "      <td>...</td>\n",
       "    </tr>\n",
       "    <tr>\n",
       "      <th>SG441</th>\n",
       "      <td>Environmental Science</td>\n",
       "      <td>NaN</td>\n",
       "      <td>NaN</td>\n",
       "      <td>NaN</td>\n",
       "      <td>NaN</td>\n",
       "      <td>297</td>\n",
       "    </tr>\n",
       "    <tr>\n",
       "      <th>SG446</th>\n",
       "      <td>Applied Archaeology</td>\n",
       "      <td>NaN</td>\n",
       "      <td>NaN</td>\n",
       "      <td>NaN</td>\n",
       "      <td>NaN</td>\n",
       "      <td>289</td>\n",
       "    </tr>\n",
       "    <tr>\n",
       "      <th>TL803</th>\n",
       "      <td>Music Technology</td>\n",
       "      <td>NaN</td>\n",
       "      <td>NaN</td>\n",
       "      <td>NaN</td>\n",
       "      <td>NaN</td>\n",
       "      <td>264</td>\n",
       "    </tr>\n",
       "    <tr>\n",
       "      <th>TL812</th>\n",
       "      <td>Computing with Digital Media</td>\n",
       "      <td>NaN</td>\n",
       "      <td>NaN</td>\n",
       "      <td>NaN</td>\n",
       "      <td>NaN</td>\n",
       "      <td>369</td>\n",
       "    </tr>\n",
       "    <tr>\n",
       "      <th>WD148</th>\n",
       "      <td>Tourism Marketing</td>\n",
       "      <td>NaN</td>\n",
       "      <td>NaN</td>\n",
       "      <td>NaN</td>\n",
       "      <td>NaN</td>\n",
       "      <td>269</td>\n",
       "    </tr>\n",
       "  </tbody>\n",
       "</table>\n",
       "<p>1651 rows × 6 columns</p>\n",
       "</div>"
      ],
      "text/plain": [
       "                                                   Course Name 2021 Round 1  \\\n",
       "Course Code                                                                   \n",
       "AL802        Software Design in Artificial Intelligence for...        313     \n",
       "AL803        Software Design for Mobile Apps and Connected ...        350     \n",
       "AL805        Computer Engineering for Network Infrastructur...        321     \n",
       "AL810        Quantity Surveying                            ...        328     \n",
       "AL811        Civil Engineering                             ...                \n",
       "...                                                        ...          ...   \n",
       "SG441                                    Environmental Science          NaN   \n",
       "SG446                                      Applied Archaeology          NaN   \n",
       "TL803                                         Music Technology          NaN   \n",
       "TL812                             Computing with Digital Media          NaN   \n",
       "WD148                                        Tourism Marketing          NaN   \n",
       "\n",
       "            2021 Round 2 2020 Round 1 2020 Round 2 2019 Round 1  \n",
       "Course Code                                                      \n",
       "AL802                             332          NaN          301  \n",
       "AL803                             337          NaN          309  \n",
       "AL805                             333          NaN          329  \n",
       "AL810                             319          NaN          307  \n",
       "AL811                             320          NaN          NaN  \n",
       "...                  ...          ...          ...          ...  \n",
       "SG441                NaN          NaN          NaN          297  \n",
       "SG446                NaN          NaN          NaN          289  \n",
       "TL803                NaN          NaN          NaN          264  \n",
       "TL812                NaN          NaN          NaN          369  \n",
       "WD148                NaN          NaN          NaN          269  \n",
       "\n",
       "[1651 rows x 6 columns]"
      ]
     },
     "execution_count": 29,
     "metadata": {},
     "output_type": "execute_result"
    }
   ],
   "source": [
    "all_courses"
   ]
  },
  {
   "cell_type": "markdown",
   "id": "0381b723-1405-4d43-92cb-9bee7ccf44d2",
   "metadata": {},
   "source": [
    "## Tiding up the all_courses dataframe\n",
    "\n",
    "We have seen extra information in the CAO data as listed below.\n",
    "\n",
    "- \"AQA\" means all qualified applicants i.e. no min points. \n",
    "- \"\\*\" means not all applicants with these points received an offer.\n",
    "- \"\\#\" means Test / Interview / Portfolio / Audition also required.\n",
    "- \"matric\" or \"mat\" are matriculation requirements. \n",
    "\n",
    "Considering matriculation requirements out of scope for this assessment. The assignment instruction requests \"a detailed comparison of CAO points in 2019, 2020, and 2021\", I will not review pre-requisites."
   ]
  },
  {
   "cell_type": "markdown",
   "id": "d79de2e9-90b8-4306-bbed-22e87f554989",
   "metadata": {},
   "source": [
    "<br>\n",
    "\n",
    "#### Additional Requirements in 2021\n",
    "Finding courses in 2021 that had Test / Interview / Portfolio / Audition.\n",
    "\n",
    "MH802 and MH803 were the only courses that had a test at round 2, but not at round one.  No course had a test in round 1 and not in round 2. \n",
    "\n",
    "Below I will check if courses in round 1 or round 2 required an additional assessment. I will save results as a Boolean, i.e. True/ False for each in a seperate dataframe.  Using Boolean algerbra I will compare them before adding them to the all_courses dataframe. "
   ]
  },
  {
   "cell_type": "code",
   "execution_count": 30,
   "id": "1c88873c-7c3b-40f6-8216-82ca6920274c",
   "metadata": {},
   "outputs": [],
   "source": [
    "# Searching if 2021 Round 1 contains # charachter. If True, return True, otherwise False.[20]\n",
    "# Saving the data series as a dataframe.\n",
    "test21 = (all_courses['2021 Round 1'].str.contains(\"#\")==True).to_frame()"
   ]
  },
  {
   "cell_type": "code",
   "execution_count": 31,
   "id": "78fc7e5a-5a0b-4e1c-a01c-3ba7316a2f9d",
   "metadata": {},
   "outputs": [],
   "source": [
    "# Creating a column with a similar function as above for round 2. \n",
    "test21[\"2021 Round 2\"] = all_courses['2021 Round 2'].str.contains(\"#\")==True"
   ]
  },
  {
   "cell_type": "code",
   "execution_count": 32,
   "id": "80bb372d-3b0c-4030-bfc8-6dae0d92cff4",
   "metadata": {},
   "outputs": [],
   "source": [
    "# Creating a third column which Boolean algebra to determine if either round 1 or round 2 had an assessment. [22]\n",
    "test21['2021 assessment'] = test21['2021 Round 1'] | test21['2021 Round 2']"
   ]
  },
  {
   "cell_type": "code",
   "execution_count": 33,
   "id": "73b8f1fd-370e-465e-ab8d-ede2e4967715",
   "metadata": {},
   "outputs": [],
   "source": [
    "all_courses = all_courses.join(test21[[\"2021 assessment\"]])"
   ]
  },
  {
   "cell_type": "markdown",
   "id": "2de929d2-8a4b-49b7-a5a3-ccc8835f530d",
   "metadata": {},
   "source": [
    "<br>\n",
    "\n",
    "#### Additional Requirments in 2020 \n",
    "\n",
    "2020 was different in that the excel file had a column to identify those with an additional assessment.\n",
    "\n",
    "These were also represented for some in the \"2020 Round 1/2 column.  All of which were duplicated in the additional assessments column.\n",
    "\n",
    "Below I will create a dataframe for 2020 additional asssements and join it to the all_courses dataframe as True/ False similar to 2019 and 2021. "
   ]
  },
  {
   "cell_type": "code",
   "execution_count": 34,
   "id": "af133182-da0a-4a49-9a61-d67c569a7cc2",
   "metadata": {},
   "outputs": [],
   "source": [
    "# reading in the dataframe and setting the column names\n",
    "test2020 = df[[\"COURSE CODE2\" , \"Test/Interview #\"]]# Ref: [10]\n",
    "test2020.columns = [\"Course Code\", \"2020 assessment\"]"
   ]
  },
  {
   "cell_type": "code",
   "execution_count": 35,
   "id": "bbaf6fae-e2d4-4361-8c22-5d7ea5ad264b",
   "metadata": {},
   "outputs": [],
   "source": [
    "# Setting the course code as the index\n",
    "test2020.set_index(\"Course Code\", inplace=True)"
   ]
  },
  {
   "cell_type": "code",
   "execution_count": 36,
   "id": "d90a7aec-9ba5-40d6-9137-1c09c019b02d",
   "metadata": {},
   "outputs": [],
   "source": [
    "# Replacing '#' with the boolean True. [24]\n",
    "test2020 = test2020.replace(\"#\", True)"
   ]
  },
  {
   "cell_type": "code",
   "execution_count": 37,
   "id": "edf8c451-fa7a-4972-85fa-c75b2794ab5d",
   "metadata": {},
   "outputs": [],
   "source": [
    "# Remaining items (\"NaN\") to be False [19]\n",
    "test2020 = test2020[\"2020 assessment\"].fillna(False)"
   ]
  },
  {
   "cell_type": "code",
   "execution_count": 38,
   "id": "924b894d-dacb-45c0-9de6-c9b094eb43a3",
   "metadata": {},
   "outputs": [],
   "source": [
    "# Above created a Data Series. Converting back to a dataframe [18]\n",
    "test2020  = test2020.to_frame()"
   ]
  },
  {
   "cell_type": "code",
   "execution_count": 39,
   "id": "e2a09ea5-b712-4fa5-a1fe-f80d0e9cf8dd",
   "metadata": {},
   "outputs": [],
   "source": [
    "# Joining test2020 to the all_courses dataframe\n",
    "all_courses = all_courses.join(test2020[[\"2020 assessment\"]])"
   ]
  },
  {
   "cell_type": "markdown",
   "id": "93fe9fe2-09be-4983-8f31-a6d9951ecfc9",
   "metadata": {},
   "source": [
    "<br>\n",
    "\n",
    "#### Additional Requirements in 2019.\n",
    "\n",
    "This was represented that same as 2020 i.e. within the points column. \n",
    "\n",
    "Below I will add a Boolean column to the end i.e. True if additional assesment was required. False if not."
   ]
  },
  {
   "cell_type": "code",
   "execution_count": 40,
   "id": "3d8c91b6-8213-431a-ae92-1c708b847010",
   "metadata": {},
   "outputs": [],
   "source": [
    "# Proforming the same operation as I did with 2021 for 2019. \n",
    "# Similar to 2021 function, if True, return True, otherwise False.[20]\n",
    "all_courses[\"2019 assessment\"] = all_courses['2019 Round 1'].str.contains(\"#\")==True"
   ]
  },
  {
   "cell_type": "markdown",
   "id": "2c8faa77-8744-44bd-8239-2301c9adb6ef",
   "metadata": {},
   "source": [
    "<br>\n",
    "\n",
    "#### Removing unnecessary information"
   ]
  },
  {
   "cell_type": "code",
   "execution_count": 41,
   "id": "9197b947-ff74-4ec3-987a-c593db0d26eb",
   "metadata": {},
   "outputs": [],
   "source": [
    "# Removing matriculation requirements [23]\n",
    "all_courses = all_courses.replace('#\\+matric','', regex=True)"
   ]
  },
  {
   "cell_type": "code",
   "execution_count": 42,
   "id": "0014a951-7052-449f-9ad8-5c638627df78",
   "metadata": {},
   "outputs": [],
   "source": [
    "all_courses = all_courses.replace('# \\+mat', '', regex=True)"
   ]
  },
  {
   "cell_type": "markdown",
   "id": "e23d3123-e05b-4ef6-848d-5f4c5b51fc0d",
   "metadata": {},
   "source": [
    "\n"
   ]
  },
  {
   "cell_type": "code",
   "execution_count": 43,
   "id": "d96bbd87-1ff5-42b7-8af4-688fb09acd53",
   "metadata": {},
   "outputs": [],
   "source": [
    "# Dropping the # as it has been represented in additional assessment columns.\n",
    "\n",
    "all_courses = all_courses.replace('#', '', regex=True)"
   ]
  },
  {
   "cell_type": "code",
   "execution_count": 44,
   "id": "555afe3a-7148-4e17-abc5-ed5cb3ba57e2",
   "metadata": {},
   "outputs": [],
   "source": [
    "# Removing * \n",
    "all_courses = all_courses.replace('\\*', '', regex=True)"
   ]
  },
  {
   "cell_type": "code",
   "execution_count": 45,
   "id": "72035242-f549-437b-9296-adf1c98526fa",
   "metadata": {},
   "outputs": [],
   "source": [
    "# Replacing AQA with 0. As there was no minimum points. \n",
    "all_courses = all_courses.replace(\"AQA\", 0, regex=True)"
   ]
  },
  {
   "cell_type": "markdown",
   "id": "ee18496e-c11a-4ff1-aa0c-e7421816563b",
   "metadata": {},
   "source": [
    "<br>\n",
    "\n",
    "#### Converting points in all_courses to ints\n",
    "\n",
    "Creating a function rather than repeating the code 5 times. \n",
    "\n",
    ".astype(ints) will not allow null values and ints co-exist in same column.  However .astype('Int64') does allow this. [21][25]"
   ]
  },
  {
   "cell_type": "code",
   "execution_count": 46,
   "id": "1d792b23-85c7-4ab8-8f1f-b2e7cd69870a",
   "metadata": {},
   "outputs": [],
   "source": [
    "# Function to read in the column names and convert values to ints. \n",
    "\n",
    "def to_float (i):\n",
    "    all_courses[i] = np.floor(pd.to_numeric(all_courses[i], errors='coerce')).astype('Int64')"
   ]
  },
  {
   "cell_type": "code",
   "execution_count": 47,
   "id": "f3737d4e-5eac-411e-a3df-13e9c257f4f1",
   "metadata": {},
   "outputs": [],
   "source": [
    "to_float(\"2021 Round 1\")\n",
    "to_float(\"2021 Round 2\")\n",
    "to_float(\"2020 Round 1\")\n",
    "to_float(\"2020 Round 2\")\n",
    "to_float(\"2019 Round 1\")"
   ]
  },
  {
   "cell_type": "code",
   "execution_count": null,
   "id": "936a7c8c-6411-4b34-a809-974c54bb7158",
   "metadata": {},
   "outputs": [],
   "source": []
  },
  {
   "cell_type": "code",
   "execution_count": 48,
   "id": "10686283-3c4a-4869-acec-ee1ced18ccdb",
   "metadata": {},
   "outputs": [
    {
     "data": {
      "text/html": [
       "<div>\n",
       "<style scoped>\n",
       "    .dataframe tbody tr th:only-of-type {\n",
       "        vertical-align: middle;\n",
       "    }\n",
       "\n",
       "    .dataframe tbody tr th {\n",
       "        vertical-align: top;\n",
       "    }\n",
       "\n",
       "    .dataframe thead th {\n",
       "        text-align: right;\n",
       "    }\n",
       "</style>\n",
       "<table border=\"1\" class=\"dataframe\">\n",
       "  <thead>\n",
       "    <tr style=\"text-align: right;\">\n",
       "      <th></th>\n",
       "      <th>Course Name</th>\n",
       "      <th>2021 Round 1</th>\n",
       "      <th>2021 Round 2</th>\n",
       "      <th>2020 Round 1</th>\n",
       "      <th>2020 Round 2</th>\n",
       "      <th>2019 Round 1</th>\n",
       "      <th>2021 assessment</th>\n",
       "      <th>2020 assessment</th>\n",
       "      <th>2019 assessment</th>\n",
       "    </tr>\n",
       "    <tr>\n",
       "      <th>Course Code</th>\n",
       "      <th></th>\n",
       "      <th></th>\n",
       "      <th></th>\n",
       "      <th></th>\n",
       "      <th></th>\n",
       "      <th></th>\n",
       "      <th></th>\n",
       "      <th></th>\n",
       "      <th></th>\n",
       "    </tr>\n",
       "  </thead>\n",
       "  <tbody>\n",
       "    <tr>\n",
       "      <th>AL802</th>\n",
       "      <td>Software Design in Artificial Intelligence for...</td>\n",
       "      <td>313</td>\n",
       "      <td>&lt;NA&gt;</td>\n",
       "      <td>332</td>\n",
       "      <td>&lt;NA&gt;</td>\n",
       "      <td>301</td>\n",
       "      <td>False</td>\n",
       "      <td>False</td>\n",
       "      <td>False</td>\n",
       "    </tr>\n",
       "    <tr>\n",
       "      <th>AL803</th>\n",
       "      <td>Software Design for Mobile Apps and Connected ...</td>\n",
       "      <td>350</td>\n",
       "      <td>&lt;NA&gt;</td>\n",
       "      <td>337</td>\n",
       "      <td>&lt;NA&gt;</td>\n",
       "      <td>309</td>\n",
       "      <td>False</td>\n",
       "      <td>False</td>\n",
       "      <td>False</td>\n",
       "    </tr>\n",
       "    <tr>\n",
       "      <th>AL805</th>\n",
       "      <td>Computer Engineering for Network Infrastructur...</td>\n",
       "      <td>321</td>\n",
       "      <td>&lt;NA&gt;</td>\n",
       "      <td>333</td>\n",
       "      <td>&lt;NA&gt;</td>\n",
       "      <td>329</td>\n",
       "      <td>False</td>\n",
       "      <td>False</td>\n",
       "      <td>False</td>\n",
       "    </tr>\n",
       "    <tr>\n",
       "      <th>AL810</th>\n",
       "      <td>Quantity Surveying                            ...</td>\n",
       "      <td>328</td>\n",
       "      <td>&lt;NA&gt;</td>\n",
       "      <td>319</td>\n",
       "      <td>&lt;NA&gt;</td>\n",
       "      <td>307</td>\n",
       "      <td>False</td>\n",
       "      <td>False</td>\n",
       "      <td>False</td>\n",
       "    </tr>\n",
       "    <tr>\n",
       "      <th>AL811</th>\n",
       "      <td>Civil Engineering                             ...</td>\n",
       "      <td>&lt;NA&gt;</td>\n",
       "      <td>&lt;NA&gt;</td>\n",
       "      <td>320</td>\n",
       "      <td>&lt;NA&gt;</td>\n",
       "      <td>&lt;NA&gt;</td>\n",
       "      <td>False</td>\n",
       "      <td>False</td>\n",
       "      <td>False</td>\n",
       "    </tr>\n",
       "    <tr>\n",
       "      <th>...</th>\n",
       "      <td>...</td>\n",
       "      <td>...</td>\n",
       "      <td>...</td>\n",
       "      <td>...</td>\n",
       "      <td>...</td>\n",
       "      <td>...</td>\n",
       "      <td>...</td>\n",
       "      <td>...</td>\n",
       "      <td>...</td>\n",
       "    </tr>\n",
       "    <tr>\n",
       "      <th>SG441</th>\n",
       "      <td>Environmental Science</td>\n",
       "      <td>&lt;NA&gt;</td>\n",
       "      <td>&lt;NA&gt;</td>\n",
       "      <td>&lt;NA&gt;</td>\n",
       "      <td>&lt;NA&gt;</td>\n",
       "      <td>297</td>\n",
       "      <td>False</td>\n",
       "      <td>NaN</td>\n",
       "      <td>False</td>\n",
       "    </tr>\n",
       "    <tr>\n",
       "      <th>SG446</th>\n",
       "      <td>Applied Archaeology</td>\n",
       "      <td>&lt;NA&gt;</td>\n",
       "      <td>&lt;NA&gt;</td>\n",
       "      <td>&lt;NA&gt;</td>\n",
       "      <td>&lt;NA&gt;</td>\n",
       "      <td>289</td>\n",
       "      <td>False</td>\n",
       "      <td>NaN</td>\n",
       "      <td>False</td>\n",
       "    </tr>\n",
       "    <tr>\n",
       "      <th>TL803</th>\n",
       "      <td>Music Technology</td>\n",
       "      <td>&lt;NA&gt;</td>\n",
       "      <td>&lt;NA&gt;</td>\n",
       "      <td>&lt;NA&gt;</td>\n",
       "      <td>&lt;NA&gt;</td>\n",
       "      <td>264</td>\n",
       "      <td>False</td>\n",
       "      <td>NaN</td>\n",
       "      <td>False</td>\n",
       "    </tr>\n",
       "    <tr>\n",
       "      <th>TL812</th>\n",
       "      <td>Computing with Digital Media</td>\n",
       "      <td>&lt;NA&gt;</td>\n",
       "      <td>&lt;NA&gt;</td>\n",
       "      <td>&lt;NA&gt;</td>\n",
       "      <td>&lt;NA&gt;</td>\n",
       "      <td>369</td>\n",
       "      <td>False</td>\n",
       "      <td>NaN</td>\n",
       "      <td>False</td>\n",
       "    </tr>\n",
       "    <tr>\n",
       "      <th>WD148</th>\n",
       "      <td>Tourism Marketing</td>\n",
       "      <td>&lt;NA&gt;</td>\n",
       "      <td>&lt;NA&gt;</td>\n",
       "      <td>&lt;NA&gt;</td>\n",
       "      <td>&lt;NA&gt;</td>\n",
       "      <td>269</td>\n",
       "      <td>False</td>\n",
       "      <td>NaN</td>\n",
       "      <td>False</td>\n",
       "    </tr>\n",
       "  </tbody>\n",
       "</table>\n",
       "<p>1651 rows × 9 columns</p>\n",
       "</div>"
      ],
      "text/plain": [
       "                                                   Course Name  2021 Round 1  \\\n",
       "Course Code                                                                    \n",
       "AL802        Software Design in Artificial Intelligence for...           313   \n",
       "AL803        Software Design for Mobile Apps and Connected ...           350   \n",
       "AL805        Computer Engineering for Network Infrastructur...           321   \n",
       "AL810        Quantity Surveying                            ...           328   \n",
       "AL811        Civil Engineering                             ...          <NA>   \n",
       "...                                                        ...           ...   \n",
       "SG441                                    Environmental Science          <NA>   \n",
       "SG446                                      Applied Archaeology          <NA>   \n",
       "TL803                                         Music Technology          <NA>   \n",
       "TL812                             Computing with Digital Media          <NA>   \n",
       "WD148                                        Tourism Marketing          <NA>   \n",
       "\n",
       "             2021 Round 2  2020 Round 1  2020 Round 2  2019 Round 1  \\\n",
       "Course Code                                                           \n",
       "AL802                <NA>           332          <NA>           301   \n",
       "AL803                <NA>           337          <NA>           309   \n",
       "AL805                <NA>           333          <NA>           329   \n",
       "AL810                <NA>           319          <NA>           307   \n",
       "AL811                <NA>           320          <NA>          <NA>   \n",
       "...                   ...           ...           ...           ...   \n",
       "SG441                <NA>          <NA>          <NA>           297   \n",
       "SG446                <NA>          <NA>          <NA>           289   \n",
       "TL803                <NA>          <NA>          <NA>           264   \n",
       "TL812                <NA>          <NA>          <NA>           369   \n",
       "WD148                <NA>          <NA>          <NA>           269   \n",
       "\n",
       "             2021 assessment 2020 assessment  2019 assessment  \n",
       "Course Code                                                    \n",
       "AL802                  False           False            False  \n",
       "AL803                  False           False            False  \n",
       "AL805                  False           False            False  \n",
       "AL810                  False           False            False  \n",
       "AL811                  False           False            False  \n",
       "...                      ...             ...              ...  \n",
       "SG441                  False             NaN            False  \n",
       "SG446                  False             NaN            False  \n",
       "TL803                  False             NaN            False  \n",
       "TL812                  False             NaN            False  \n",
       "WD148                  False             NaN            False  \n",
       "\n",
       "[1651 rows x 9 columns]"
      ]
     },
     "execution_count": 48,
     "metadata": {},
     "output_type": "execute_result"
    }
   ],
   "source": [
    "all_courses"
   ]
  },
  {
   "cell_type": "markdown",
   "id": "a2c2f02d-3ba2-48a7-b0c3-3f5882308217",
   "metadata": {},
   "source": [
    "## Backing up allcourses dataframe"
   ]
  },
  {
   "cell_type": "code",
   "execution_count": 49,
   "id": "bce9c039-3813-420e-b148-b1ee37b9bb0a",
   "metadata": {},
   "outputs": [],
   "source": [
    "# Defining a path.\n",
    "path_courses = \"data/allcourses_\" + strnow + \".csv\"\n",
    "\n",
    "# Outputing to CSV.\n",
    "all_courses.to_csv(path_courses)"
   ]
  },
  {
   "cell_type": "markdown",
   "id": "20bff7f8-ae61-4d47-918a-da44d609c14e",
   "metadata": {},
   "source": [
    "<br>\n",
    "\n",
    "# Analysis of CAO points from 2019 to 2021\n",
    "\n",
    "I will begin an alanysis of the CAO point across these years by providing summary data of the points.  I will then proceed to compare the years by visualising the spread using a histogram.  "
   ]
  },
  {
   "cell_type": "markdown",
   "id": "7a0c0683-b111-4581-87aa-0ab294693dac",
   "metadata": {},
   "source": [
    "### Summary of points"
   ]
  },
  {
   "cell_type": "code",
   "execution_count": 50,
   "id": "61c4c953-fa06-4be4-aaf6-109f72915f31",
   "metadata": {},
   "outputs": [
    {
     "data": {
      "text/html": [
       "<div>\n",
       "<style scoped>\n",
       "    .dataframe tbody tr th:only-of-type {\n",
       "        vertical-align: middle;\n",
       "    }\n",
       "\n",
       "    .dataframe tbody tr th {\n",
       "        vertical-align: top;\n",
       "    }\n",
       "\n",
       "    .dataframe thead th {\n",
       "        text-align: right;\n",
       "    }\n",
       "</style>\n",
       "<table border=\"1\" class=\"dataframe\">\n",
       "  <thead>\n",
       "    <tr style=\"text-align: right;\">\n",
       "      <th></th>\n",
       "      <th>2021 Round 1</th>\n",
       "      <th>2020 Round 1</th>\n",
       "      <th>2019 Round 1</th>\n",
       "    </tr>\n",
       "  </thead>\n",
       "  <tbody>\n",
       "    <tr>\n",
       "      <th>count</th>\n",
       "      <td>923</td>\n",
       "      <td>1420</td>\n",
       "      <td>906</td>\n",
       "    </tr>\n",
       "    <tr>\n",
       "      <th>mean</th>\n",
       "      <td>407</td>\n",
       "      <td>344</td>\n",
       "      <td>374</td>\n",
       "    </tr>\n",
       "    <tr>\n",
       "      <th>std</th>\n",
       "      <td>129</td>\n",
       "      <td>141</td>\n",
       "      <td>123</td>\n",
       "    </tr>\n",
       "    <tr>\n",
       "      <th>min</th>\n",
       "      <td>0</td>\n",
       "      <td>0</td>\n",
       "      <td>55</td>\n",
       "    </tr>\n",
       "    <tr>\n",
       "      <th>25%</th>\n",
       "      <td>303</td>\n",
       "      <td>251</td>\n",
       "      <td>290</td>\n",
       "    </tr>\n",
       "    <tr>\n",
       "      <th>50%</th>\n",
       "      <td>391</td>\n",
       "      <td>311</td>\n",
       "      <td>348</td>\n",
       "    </tr>\n",
       "    <tr>\n",
       "      <th>75%</th>\n",
       "      <td>499</td>\n",
       "      <td>430</td>\n",
       "      <td>440</td>\n",
       "    </tr>\n",
       "    <tr>\n",
       "      <th>max</th>\n",
       "      <td>1028</td>\n",
       "      <td>1088</td>\n",
       "      <td>979</td>\n",
       "    </tr>\n",
       "  </tbody>\n",
       "</table>\n",
       "</div>"
      ],
      "text/plain": [
       "       2021 Round 1  2020 Round 1  2019 Round 1\n",
       "count           923          1420           906\n",
       "mean            407           344           374\n",
       "std             129           141           123\n",
       "min               0             0            55\n",
       "25%             303           251           290\n",
       "50%             391           311           348\n",
       "75%             499           430           440\n",
       "max            1028          1088           979"
      ]
     },
     "execution_count": 50,
     "metadata": {},
     "output_type": "execute_result"
    }
   ],
   "source": [
    "# Round 1 points columns as a variable. \n",
    "round1 = all_courses[['2021 Round 1','2020 Round 1', '2019 Round 1']]\n",
    "\n",
    "# Outputting summary data for round 1 course that have numerical points assigned. \n",
    "round1.describe().astype(int)"
   ]
  },
  {
   "cell_type": "markdown",
   "id": "19792eab-9edc-4948-a14c-8bc15ef59507",
   "metadata": {},
   "source": [
    "<br>\n",
    "\n",
    "#### Creating vairables for plotting\n",
    "Shortening lenght of code to ease when plotting.\n",
    "\n",
    "I do not want matplotlib to interpret null values as zeros, therefore I'm dropping them out of the individual dataframe for the inital individual plots.[26]\n",
    "\n",
    "Need to convert points to ints to allow analysis on seaborn. Setting as type as int as I ran into trouble with KDE plot below as it was an object array, data typr 'method'. Previously I had converted to int64 to allow null values mix with ints in the all_courses dataframe. "
   ]
  },
  {
   "cell_type": "code",
   "execution_count": 127,
   "id": "cca1f77c-06ce-4933-834d-f569b52227fa",
   "metadata": {},
   "outputs": [],
   "source": [
    "# Creating variables for plotting.  Removing null values.\n",
    "\n",
    "r1_2021 = all_courses[\"2021 Round 1\"].dropna().astype(int)\n",
    "r2_2021 = all_courses[\"2021 Round 2\"].dropna().astype(int)\n",
    "r1_2020 = all_courses[\"2020 Round 1\"].dropna().astype(int)\n",
    "r2_2020 = all_courses[\"2020 Round 2\"].dropna().astype(int)\n",
    "r1_2019 = all_courses[\"2019 Round 1\"].dropna().astype(int)"
   ]
  },
  {
   "cell_type": "markdown",
   "id": "bbea1110-577a-41cb-ab4d-82c364eb3620",
   "metadata": {},
   "source": [
    "<br>\n",
    "\n",
    "#### Initial comparsion with histogram subplot\n",
    "\n",
    "Plot as histogram next to one another to initial compare.  Note that 2020 has many more course than 2021, and 2019, therefore unfair to use sharey=True, i.e. share a Y axis.  This would show frequency of course points for 2020 much higher than 2021 and 2019 across the board.  Rather, each year will have a unique Y axis, therefore we can compare the distribution of points"
   ]
  },
  {
   "cell_type": "code",
   "execution_count": 81,
   "id": "36cc08c6-e799-4c35-8274-945c88ce3733",
   "metadata": {},
   "outputs": [
    {
     "data": {
      "text/plain": [
       "[]"
      ]
     },
     "execution_count": 81,
     "metadata": {},
     "output_type": "execute_result"
    },
    {
     "data": {
      "image/png": "[encoded data removed]",
      "text/plain": [
       "<Figure size 720x504 with 3 Axes>"
      ]
     },
     "metadata": {},
     "output_type": "display_data"
    }
   ],
   "source": [
    "# 3 horizontel subplots. [28]\n",
    "fig, axes = plt.subplots(1,3)\n",
    "\n",
    "# plotting histograms from seaborn, setting bins to 15. [27]\n",
    "sns.histplot(r1_2021, bins = 15, ax=axes[0])\n",
    "sns.histplot(r1_2020, bins = 15, ax=axes[1])\n",
    "sns.histplot(r1_2019, bins = 15, ax=axes[2])\n",
    "\n",
    "plt.plot()"
   ]
  },
  {
   "cell_type": "markdown",
   "id": "4e7a904b-54d3-4bbf-a409-657cb592e733",
   "metadata": {},
   "source": [
    "In the above plot it appears we see a sudden spike in courses at approx 250-350 points for each year.  \n",
    "\n",
    "In 2021, after the spike there is almost an even distribution between 350 - 550, with points almost growing gradually until approx 550.   \n",
    "\n",
    "In 2020, and 2019 the spike is evident at 250-350, with a sudden drop of frequency in courses with 350 points onwards.\n"
   ]
  },
  {
   "cell_type": "markdown",
   "id": "e3c8c1d5-c280-4b89-adc9-7052a66f6313",
   "metadata": {},
   "source": [
    "<br>\n",
    "\n",
    "#### KDE plot for more accurate visualisation of the trends"
   ]
  },
  {
   "cell_type": "code",
   "execution_count": 125,
   "id": "812eb6b0-5d27-41df-80e6-a05f6205991f",
   "metadata": {},
   "outputs": [
    {
     "data": {
      "image/png": "[encoded data removed]",
      "text/plain": [
       "<Figure size 720x504 with 1 Axes>"
      ]
     },
     "metadata": {},
     "output_type": "display_data"
    }
   ],
   "source": [
    "# KDE plot from seaborn [29]\n",
    "p = sns.kdeplot(r1_2021, bw_adjust= 0.4,color='red')\n",
    "sns.kdeplot(r1_2020, bw_adjust= 0.4, color='blue')\n",
    "sns.kdeplot(r1_2019, bw_adjust= 0.4, color='pink')\n",
    "\n",
    "# Veritical line at 300 to show mutual peak of spike. \n",
    "p.axvline(300, color = '0.5', linestyle = ':')\n",
    "\n",
    "# Setting x axis tics and grid lines to understand trends better. \n",
    "plt.xticks([0,100,200,300,400,500,600,700,800,900,1000])\n",
    "\n",
    "# Setting X label\n",
    "p.set(xlabel='Points Frequency')\n",
    "\n",
    "plt.show()"
   ]
  },
  {
   "cell_type": "markdown",
   "id": "230d3d80-d3f0-440b-95ac-77553ec90cc8",
   "metadata": {},
   "source": [
    "The KDE plot identifies that the peak of the said 'spike' is at 300 for the 3 years. \n",
    "\n",
    "The KDE plot identifies the spike begins for 2021 and 2019 at approx 190, and approx 140 in 2020. \n",
    "\n",
    "The KDE plot also identifies a uniform like distribution / slight increase in 2021 following the spike in points frequency.\n",
    "\n",
    "In 2020 and 2019 we see the decline in points frequency as expected from the study on the histogram.  However there is two increases in the points frequency in both 2019 and 2020. The first is at approx 400 points in both years, and the second at approx 500.  This final spike occurs in 2021 also, before the decline in points frequency. "
   ]
  },
  {
   "cell_type": "code",
   "execution_count": null,
   "id": "4c235b2d-b233-4d51-afe8-1af2ddbb8711",
   "metadata": {},
   "outputs": [],
   "source": []
  },
  {
   "cell_type": "markdown",
   "id": "61b27b96-eeee-42a9-8f7a-e0ac258c02e5",
   "metadata": {},
   "source": [
    "Next, consider doing a CDF to get stats, scipy.stats.  and fill between to visualise. "
   ]
  },
  {
   "cell_type": "code",
   "execution_count": null,
   "id": "5b358653-5969-4f3a-a11d-ee5d8e610552",
   "metadata": {},
   "outputs": [],
   "source": []
  },
  {
   "cell_type": "code",
   "execution_count": null,
   "id": "a3789c78-b8e6-4367-afe1-eb69fee7f966",
   "metadata": {},
   "outputs": [],
   "source": []
  },
  {
   "cell_type": "markdown",
   "id": "db9b8259-849c-43c5-a220-8cb263e6bf78",
   "metadata": {},
   "source": [
    "### Summary of additional assessments"
   ]
  },
  {
   "cell_type": "code",
   "execution_count": 54,
   "id": "5a2aaac6-7979-4563-b9ea-576038058575",
   "metadata": {},
   "outputs": [],
   "source": [
    "# Assessment/ Boolean column headings as list to shorten code for sum.\n",
    "assessments = [\"2021 assessment\",\"2020 assessment\",\"2019 assessment\"]"
   ]
  },
  {
   "cell_type": "code",
   "execution_count": 55,
   "id": "b6db2a03-6b56-4d6e-8281-c76f741ae104",
   "metadata": {},
   "outputs": [],
   "source": [
    "# Saving the sum of courses that have assessments for each year. \n",
    "assess21, assess20, assess19 = all_courses[assessments].sum()"
   ]
  },
  {
   "cell_type": "code",
   "execution_count": 56,
   "id": "7d19f92b-9907-42ad-a778-e52bdcb5ed08",
   "metadata": {},
   "outputs": [
    {
     "name": "stdout",
     "output_type": "stream",
     "text": [
      "In 2021, 83 courses had an additional assessments.\n",
      "In 2020, 127 courses had an additional assessments.\n",
      "In 2019, 95 courses had an additional assessments.\n"
     ]
    }
   ],
   "source": [
    "print(\"In 2021, {} courses had an additional assessments.\".format(assess21))\n",
    "print(\"In 2020, {} courses had an additional assessments.\".format(assess20))\n",
    "print(\"In 2019, {} courses had an additional assessments.\".format(assess19))"
   ]
  },
  {
   "cell_type": "code",
   "execution_count": null,
   "id": "a69a0a01-c56d-4075-ab1c-3cddbceb7386",
   "metadata": {},
   "outputs": [],
   "source": []
  },
  {
   "cell_type": "code",
   "execution_count": null,
   "id": "77c73001-bb07-40d4-b8b5-93ae6e0303de",
   "metadata": {},
   "outputs": [],
   "source": []
  },
  {
   "cell_type": "code",
   "execution_count": null,
   "id": "f3d1bf00-11bd-40b1-b53b-2a4cf1034944",
   "metadata": {},
   "outputs": [],
   "source": []
  },
  {
   "cell_type": "markdown",
   "id": "fc8a85fd-9261-4804-bac1-79185415bfb7",
   "metadata": {},
   "source": [
    "# References\n",
    "- [1] http://www.cao.ie/index.php?page=points&p=2021\n",
    "- [2] https://www.w3schools.com/python/python_regex.asp\n",
    "- [2] https://realpython.com/regex-python/\n",
    "- [3] https://www.ocpsoft.org/tutorials/regular-expressions/or-in-regex/\n",
    "- https://www.w3schools.com/python/python_functions.asp\n",
    "- https://stackoverflow.com/questions/54496411/python-errortypeerror-findall-missing-1-required-positional-argument-stri\n",
    "- https://www.w3schools.com/python/python_regex.asp\n",
    "- https://realpython.com/regex-python/\n",
    "- https://stackoverflow.com/questions/2013124/regex-matching-up-to-the-first-occurrence-of-a-character\n",
    "- https://developers.google.com/edu/python/regular-expressions\n",
    "- https://www.ocpsoft.org/tutorials/regular-expressions/or-in-regex/\n",
    "- [10] https://pandas.pydata.org/pandas-docs/stable/user_guide/indexing.html\n",
    "- [11] https://pandas.pydata.org/docs/reference/api/pandas.read_csv.html\n",
    "- [12] https://www.kite.com/python/answers/how-to-set-column-names-when-importing-a-csv-into-a-pandas-dataframe-in-python\n",
    "- [13] https://pandas.pydata.org/docs/reference/api/pandas.concat.html\n",
    "- [14] https://towardsdatascience.com/pandas-join-vs-merge-c365fd4fbf49\n",
    "- [15] https://pandas.pydata.org/docs/reference/api/pandas.DataFrame.drop_duplicates.html\n",
    "- [16] https://pandas.pydata.org/docs/reference/api/pandas.DataFrame.sort_values.html\n",
    "- [17] https://stackoverflow.com/questions/11350770/filter-pandas-dataframe-by-substring-critera\n",
    "- [18] https://datatofish.com/convert-pandas-series-to-dataframe/\n",
    "- [19] https://codepad.co/snippet/replace-nan-values-with-false-in-a-column-of-a-pandas-dataframe\n",
    "- [20] https://www.geeksforgeeks.org/python-pandas-series-str-contains/\n",
    "- [21] https://stackoverflow.com/questions/47333227/pandas-valueerror-cannot-convert-float-nan-to-integer\n",
    "- [22] https://stackoverflow.com/questions/54507486/merging-two-true-false-dataframe-columns-keeping-only-true\n",
    "- [23] https://towardsdatascience.com/an-easy-way-to-replace-values-in-a-pandas-dataframe-2826bd34e59a\n",
    "- [24] https://pandas.pydata.org/docs/reference/api/pandas.DataFrame.replace.html\n",
    "- [25] https://stackoverflow.com/questions/62899860/how-can-i-resolve-typeerror-cannot-safely-cast-non-equivalent-float64-to-int6\n",
    "- [26] https://www.geeksforgeeks.org/python-pandas-dataframe-dropna/\n",
    "- [27] https://seaborn.pydata.org/generated/seaborn.histplot.html\n",
    "- [28] https://stackoverflow.com/questions/41384040/subplot-for-seaborn-boxplot\n"
   ]
  },
  {
   "cell_type": "markdown",
   "id": "f317dc8d-6542-44a6-9028-8adf5d74974e",
   "metadata": {},
   "source": [
    "***\n",
    "# End"
   ]
  }
 ],
 "metadata": {
  "kernelspec": {
   "display_name": "Python 3",
   "language": "python",
   "name": "python3"
  },
  "language_info": {
   "codemirror_mode": {
    "name": "ipython",
    "version": 3
   },
   "file_extension": ".py",
   "mimetype": "text/x-python",
   "name": "python",
   "nbconvert_exporter": "python",
   "pygments_lexer": "ipython3",
   "version": "3.8.8"
  }
 },
 "nbformat": 4,
 "nbformat_minor": 5
}
