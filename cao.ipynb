{
 "cells": [
  {
   "cell_type": "markdown",
   "id": "af028527-6ab9-443b-86e8-cc794edeff78",
   "metadata": {},
   "source": [
    "# A comparison of CAO points between 2019, 2020, and 2021.\n",
    "***"
   ]
  },
  {
   "cell_type": "code",
   "execution_count": 1,
   "id": "dbdb8497-8198-4bd4-9dcc-0b521b22fcf8",
   "metadata": {},
   "outputs": [],
   "source": [
    "import pandas as pd\n",
    "import matplotlib.pyplot as plt\n",
    "import numpy as np\n",
    "import requests as rq\n",
    "import re"
   ]
  },
  {
   "cell_type": "markdown",
   "id": "40ba309e-1431-4dc6-991f-f939985bc0ea",
   "metadata": {},
   "source": [
    "- How to load CAO points information from the CAO website.\n",
    "- A detailed comparison of CAO points in 2019, 2020, and 2021 using pandas"
   ]
  },
  {
   "cell_type": "code",
   "execution_count": 2,
   "id": "000fe3fc-3fc4-4250-a331-3c4812656dfa",
   "metadata": {},
   "outputs": [],
   "source": [
    "# Pulling raw data from CAO - level 8 (2021) [1]\n",
    "CAO_2021 = rq.get(\"http://www2.cao.ie/points/l8.php\")\n"
   ]
  },
  {
   "cell_type": "code",
   "execution_count": 3,
   "id": "ed9caa2d-bdf8-4f4f-bfba-e03f329cb05e",
   "metadata": {},
   "outputs": [
    {
     "data": {
      "text/plain": [
       "<Response [200]>"
      ]
     },
     "execution_count": 3,
     "metadata": {},
     "output_type": "execute_result"
    }
   ],
   "source": [
    "# Identifying if they pull correctly (Response [200] means its good.)\n",
    "CAO_2021"
   ]
  },
  {
   "cell_type": "code",
   "execution_count": 21,
   "id": "7e39504b-fc04-4855-a9a3-33a4f1f4b60e",
   "metadata": {},
   "outputs": [
    {
     "name": "stdout",
     "output_type": "stream",
     "text": [
      "\n",
      "Number of level 8 courses in 2021: 923\n",
      "\n"
     ]
    }
   ],
   "source": [
    "# Compiling the regular expression code to find lines of courses. [2] There should be 949 of them. \n",
    "# Third group is ran using the 'OR' function i.e. #123* OR #123 OR # OR 123* etc.. [3]\n",
    "# RE is almost there however not capturing courses with no points assigned. Needs amendment.\n",
    "re_course = re.compile(\"([A-Z]{2}[0-9]{3})  (.*[^[0-9]{3}|[A-Z]{3}|[\\*]|[#])  *([#][0-9]{3}[\\*]|[#][0-9]{3}|[#]|[0-9]{3}|[0-9]{3}[\\*]|[\\*])  (.*)\")\n",
    "counter = 0  \n",
    "path = \"2021_CAO_DATA.csv\"\n",
    "\n",
    "#(.*[^#|[0-9]{3}|\\*])  * ([#][0-9]{3}[\\*]|[#][0-9]{3}|[#]|[0-9]{3}|[0-9]{3}[\\*]|[\\*]|[ *])  (.*)\")\n",
    "\n",
    "with open (path, \"w\") as f:  # Writing lines from RE to a CSV file. \n",
    "\n",
    "# Running a loop to find lines in the above RE. \n",
    "    for line in CAO_2021.iter_lines(): \n",
    "        decoded = line.decode('cp1252') # error in the standard used. ISO standard didn't reckonise character '\\x96' on CM002.\n",
    "        if re_course.fullmatch(decoded):\n",
    "            CSV_2021 = re_course.sub(r\"\\1,\\2,\\3,\\4\", decoded)\n",
    "            f.write(CSV_2021 + \"\\n\")\n",
    "            counter +=1\n",
    "            \n",
    "print (\"\\nNumber of level 8 courses in 2021: {}\\n\".format(counter))"
   ]
  },
  {
   "cell_type": "markdown",
   "id": "8af34535-f34d-45c6-90f7-48b4428a1302",
   "metadata": {},
   "source": [
    "<br>\n",
    "<br>\n",
    "\n",
    "Initally used the code below however it did not return course with no points assigned eg DB503.  Nor did it return courses with round two offers only e.g. GC301\n",
    "\n",
    "- if re.fullmatch(\"[A-Z]{2}[0-9]{3}  .*[0-9]{3}(\\*)? *\", line.decode('ISO-8859-1')):"
   ]
  },
  {
   "cell_type": "code",
   "execution_count": null,
   "id": "888db736-0760-4ef5-aae0-844a96890f9f",
   "metadata": {},
   "outputs": [],
   "source": []
  },
  {
   "cell_type": "markdown",
   "id": "fc8a85fd-9261-4804-bac1-79185415bfb7",
   "metadata": {},
   "source": [
    "# References\n",
    "- [1] http://www.cao.ie/index.php?page=points&p=2021\n",
    "- [2] https://www.w3schools.com/python/python_regex.asp\n",
    "- [2] https://realpython.com/regex-python/\n",
    "- [3] https://www.ocpsoft.org/tutorials/regular-expressions/or-in-regex/\n",
    "- https://www.w3schools.com/python/python_functions.asp\n",
    "- https://stackoverflow.com/questions/54496411/python-errortypeerror-findall-missing-1-required-positional-argument-stri\n",
    "- https://www.w3schools.com/python/python_regex.asp\n",
    "- https://realpython.com/regex-python/\n"
   ]
  },
  {
   "cell_type": "markdown",
   "id": "f317dc8d-6542-44a6-9028-8adf5d74974e",
   "metadata": {},
   "source": [
    "***\n",
    "# End"
   ]
  }
 ],
 "metadata": {
  "kernelspec": {
   "display_name": "Python 3",
   "language": "python",
   "name": "python3"
  },
  "language_info": {
   "codemirror_mode": {
    "name": "ipython",
    "version": 3
   },
   "file_extension": ".py",
   "mimetype": "text/x-python",
   "name": "python",
   "nbconvert_exporter": "python",
   "pygments_lexer": "ipython3",
   "version": "3.8.8"
  }
 },
 "nbformat": 4,
 "nbformat_minor": 5
}
