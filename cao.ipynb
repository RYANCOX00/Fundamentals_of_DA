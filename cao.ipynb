{
 "cells": [
  {
   "cell_type": "markdown",
   "id": "af028527-6ab9-443b-86e8-cc794edeff78",
   "metadata": {},
   "source": [
    "# A comparison of CAO points between 2019, 2020, and 2021.\n",
    "***"
   ]
  },
  {
   "cell_type": "code",
   "execution_count": 1,
   "id": "dbdb8497-8198-4bd4-9dcc-0b521b22fcf8",
   "metadata": {},
   "outputs": [],
   "source": [
    "import pandas as pd\n",
    "import matplotlib.pyplot as plt\n",
    "import numpy as np\n",
    "import requests as rq\n",
    "import re\n",
    "import datetime as dt\n",
    "import urllib.request as urlrq"
   ]
  },
  {
   "cell_type": "markdown",
   "id": "40ba309e-1431-4dc6-991f-f939985bc0ea",
   "metadata": {},
   "source": [
    "- How to load CAO points information from the CAO website.\n",
    "- A detailed comparison of CAO points in 2019, 2020, and 2021 using pandas"
   ]
  },
  {
   "cell_type": "markdown",
   "id": "cee40e90-195b-4519-a963-d1f1678cc857",
   "metadata": {},
   "source": [
    "<br>\n",
    "\n",
    "## Obtaining the 2019 data from a html webpage.."
   ]
  },
  {
   "cell_type": "code",
   "execution_count": 2,
   "id": "000fe3fc-3fc4-4250-a331-3c4812656dfa",
   "metadata": {},
   "outputs": [],
   "source": [
    "# Pulling raw data from CAO - level 8 (2021) [1]\n",
    "CAO_2021 = rq.get(\"http://www2.cao.ie/points/l8.php\")\n"
   ]
  },
  {
   "cell_type": "code",
   "execution_count": 3,
   "id": "ed9caa2d-bdf8-4f4f-bfba-e03f329cb05e",
   "metadata": {},
   "outputs": [
    {
     "data": {
      "text/plain": [
       "<Response [200]>"
      ]
     },
     "execution_count": 3,
     "metadata": {},
     "output_type": "execute_result"
    }
   ],
   "source": [
    "# Identifying if they pull correctly (Response [200] means its good.)\n",
    "CAO_2021"
   ]
  },
  {
   "cell_type": "code",
   "execution_count": 4,
   "id": "7e39504b-fc04-4855-a9a3-33a4f1f4b60e",
   "metadata": {},
   "outputs": [],
   "source": [
    "# Compiling the regular expression code to find lines of courses. [2] There should be 949 of them. \n",
    "# Third group is ran using the 'OR' function i.e. #123* OR #123 OR # OR 123* etc.. [3]\n",
    "# RE is almost there however not capturing courses with no points assigned. Needs amendment.\n",
    "\n",
    "group1 = \"([A-Z]{2}[0-9]{3})  \"  # 2 uppercase letters and 3 numbers\n",
    "group2 = \"(.*[^[0-9]{3}|[A-Z]{3}|[#]|[\\*]])  \" # everything except the following items.\n",
    "group3 = \"*([#]|[#][0-9]{3}[\\*]|[#][0-9]{3}|[0-9]{3}|[0-9]{3}[\\*]|[\\*]|[ *])  \" # 3rd pattern powered by OR\n",
    "group4 = \"(.*)\"\n",
    "\n",
    "re_course = re.compile(group1 + group2 + group3 + group4)  # compling the REGEX. "
   ]
  },
  {
   "cell_type": "code",
   "execution_count": 5,
   "id": "e90aa209-db0b-4cd7-88be-4e71c11ca319",
   "metadata": {},
   "outputs": [],
   "source": [
    "# Getting the date and time as items in an array.\n",
    "now = dt.datetime.now()\n",
    "\n",
    "# Taking the string items and putting them in a string.\n",
    "strnow = now.strftime('%Y_%m_%d_%H%M')"
   ]
  },
  {
   "cell_type": "code",
   "execution_count": 6,
   "id": "d4ee1495-ce84-495a-a768-23006ec05952",
   "metadata": {},
   "outputs": [],
   "source": [
    "# Creating a path to backup original html data with time/date.\n",
    "original_data = \"data/cao2021_raw_\"+strnow+\".html\"\n",
    "\n",
    "# Defining a path to output the 2021 data with time/date. \n",
    "path = \"data/cao2021_\"+strnow+\".csv\""
   ]
  },
  {
   "cell_type": "code",
   "execution_count": 7,
   "id": "aeb6f807-bc6b-4789-9b59-d292d2c6ab3d",
   "metadata": {},
   "outputs": [],
   "source": [
    "# Backing up the original html file.\n",
    "\n",
    "# Need to change the encoder to cp1252. \n",
    "CAO_2021.encoding = \"cp1252\" \n",
    "\n",
    "# Writing raw data to the path defined above - \"original-data\".\n",
    "with open (original_data, \"w\") as f:\n",
    "    f.write(CAO_2021.text)"
   ]
  },
  {
   "cell_type": "code",
   "execution_count": 8,
   "id": "b76cd9d2-e15b-4d3b-afd8-1374835657e7",
   "metadata": {},
   "outputs": [
    {
     "name": "stdout",
     "output_type": "stream",
     "text": [
      "\n",
      "Number of level 8 courses in 2021: 949\n",
      "\n"
     ]
    }
   ],
   "source": [
    "counter = 0  \n",
    "\n",
    "# Writing lines from RE to a CSV file. \n",
    "with open (path, \"w\") as f:  \n",
    "\n",
    "# Running a loop to find lines in the above RE. \n",
    "    for line in CAO_2021.iter_lines(): \n",
    "        decoded = line.decode('cp1252') # error in the standard used. ISO standard didn't reckonise character '\\x96' on CM002.\n",
    "        if re_course.fullmatch(decoded):\n",
    "            CSV_2021 = re_course.sub(r\"\\1,\\2,\\3,\\4\", decoded)  #seperating the groups by a comma. \n",
    "            f.write(CSV_2021 + \"\\n\") # writing each line to the path. \n",
    "            counter +=1\n",
    "            \n",
    "print (\"\\nNumber of level 8 courses in 2021: {}\\n\".format(counter))"
   ]
  },
  {
   "cell_type": "code",
   "execution_count": 9,
   "id": "20b3c7d3-7d38-4022-8603-4843f19edc16",
   "metadata": {},
   "outputs": [],
   "source": [
    "# Defining column names for 2021 data.\n",
    "header_list = [\"Course Code\", \"Course Name\", \"Round 1\", \"Round 2\"] # ref: [12]\n",
    "\n",
    "# Reading in data to dataframe. \n",
    "df21 = pd.read_csv(path, names=header_list)"
   ]
  },
  {
   "cell_type": "code",
   "execution_count": 10,
   "id": "e0c72048-4222-47ff-a6e7-bcf9ac1fd3b9",
   "metadata": {},
   "outputs": [
    {
     "data": {
      "text/html": [
       "<div>\n",
       "<style scoped>\n",
       "    .dataframe tbody tr th:only-of-type {\n",
       "        vertical-align: middle;\n",
       "    }\n",
       "\n",
       "    .dataframe tbody tr th {\n",
       "        vertical-align: top;\n",
       "    }\n",
       "\n",
       "    .dataframe thead th {\n",
       "        text-align: right;\n",
       "    }\n",
       "</style>\n",
       "<table border=\"1\" class=\"dataframe\">\n",
       "  <thead>\n",
       "    <tr style=\"text-align: right;\">\n",
       "      <th></th>\n",
       "      <th>Course Code</th>\n",
       "      <th>Course Name</th>\n",
       "      <th>Round 1</th>\n",
       "      <th>Round 2</th>\n",
       "    </tr>\n",
       "  </thead>\n",
       "  <tbody>\n",
       "    <tr>\n",
       "      <th>0</th>\n",
       "      <td>AL801</td>\n",
       "      <td>Software Design for Virtual Reality and Gaming...</td>\n",
       "      <td>300</td>\n",
       "      <td></td>\n",
       "    </tr>\n",
       "    <tr>\n",
       "      <th>1</th>\n",
       "      <td>AL802</td>\n",
       "      <td>Software Design in Artificial Intelligence for...</td>\n",
       "      <td>313</td>\n",
       "      <td></td>\n",
       "    </tr>\n",
       "    <tr>\n",
       "      <th>2</th>\n",
       "      <td>AL803</td>\n",
       "      <td>Software Design for Mobile Apps and Connected ...</td>\n",
       "      <td>350</td>\n",
       "      <td></td>\n",
       "    </tr>\n",
       "    <tr>\n",
       "      <th>3</th>\n",
       "      <td>AL805</td>\n",
       "      <td>Computer Engineering for Network Infrastructur...</td>\n",
       "      <td>321</td>\n",
       "      <td></td>\n",
       "    </tr>\n",
       "    <tr>\n",
       "      <th>4</th>\n",
       "      <td>AL810</td>\n",
       "      <td>Quantity Surveying                            ...</td>\n",
       "      <td>328</td>\n",
       "      <td></td>\n",
       "    </tr>\n",
       "    <tr>\n",
       "      <th>...</th>\n",
       "      <td>...</td>\n",
       "      <td>...</td>\n",
       "      <td>...</td>\n",
       "      <td>...</td>\n",
       "    </tr>\n",
       "    <tr>\n",
       "      <th>944</th>\n",
       "      <td>WD211</td>\n",
       "      <td>Creative Computing                            ...</td>\n",
       "      <td>270</td>\n",
       "      <td></td>\n",
       "    </tr>\n",
       "    <tr>\n",
       "      <th>945</th>\n",
       "      <td>WD212</td>\n",
       "      <td>Recreation and Sport Management               ...</td>\n",
       "      <td>262</td>\n",
       "      <td></td>\n",
       "    </tr>\n",
       "    <tr>\n",
       "      <th>946</th>\n",
       "      <td>WD230</td>\n",
       "      <td>Mechanical and Manufacturing Engineering      ...</td>\n",
       "      <td>230</td>\n",
       "      <td>230</td>\n",
       "    </tr>\n",
       "    <tr>\n",
       "      <th>947</th>\n",
       "      <td>WD231</td>\n",
       "      <td>Early Childhood Care and Education            ...</td>\n",
       "      <td>266</td>\n",
       "      <td></td>\n",
       "    </tr>\n",
       "    <tr>\n",
       "      <th>948</th>\n",
       "      <td>WD232</td>\n",
       "      <td>Business Information Systems                  ...</td>\n",
       "      <td></td>\n",
       "      <td>NaN</td>\n",
       "    </tr>\n",
       "  </tbody>\n",
       "</table>\n",
       "<p>949 rows × 4 columns</p>\n",
       "</div>"
      ],
      "text/plain": [
       "    Course Code                                        Course Name Round 1  \\\n",
       "0         AL801  Software Design for Virtual Reality and Gaming...     300   \n",
       "1         AL802  Software Design in Artificial Intelligence for...     313   \n",
       "2         AL803  Software Design for Mobile Apps and Connected ...     350   \n",
       "3         AL805  Computer Engineering for Network Infrastructur...     321   \n",
       "4         AL810  Quantity Surveying                            ...     328   \n",
       "..          ...                                                ...     ...   \n",
       "944       WD211  Creative Computing                            ...     270   \n",
       "945       WD212  Recreation and Sport Management               ...     262   \n",
       "946       WD230  Mechanical and Manufacturing Engineering      ...     230   \n",
       "947       WD231  Early Childhood Care and Education            ...     266   \n",
       "948       WD232  Business Information Systems                  ...           \n",
       "\n",
       "     Round 2  \n",
       "0             \n",
       "1             \n",
       "2             \n",
       "3             \n",
       "4             \n",
       "..       ...  \n",
       "944           \n",
       "945           \n",
       "946      230  \n",
       "947           \n",
       "948      NaN  \n",
       "\n",
       "[949 rows x 4 columns]"
      ]
     },
     "execution_count": 10,
     "metadata": {},
     "output_type": "execute_result"
    }
   ],
   "source": [
    "df21"
   ]
  },
  {
   "cell_type": "code",
   "execution_count": null,
   "id": "4bd7605b-d2b0-4d19-83dd-d35c706d6e27",
   "metadata": {},
   "outputs": [],
   "source": []
  },
  {
   "cell_type": "markdown",
   "id": "522c584c-b5cc-45fa-b8ac-139cd1fe92ba",
   "metadata": {},
   "source": [
    "<br>\n",
    "\n",
    "## Obtaining the 2020 data from an Excel file."
   ]
  },
  {
   "cell_type": "markdown",
   "id": "a570d060-8283-462f-aa2f-c7a708819375",
   "metadata": {},
   "source": [
    "The 2020 CAO data is on an excel spreadsheet on the CAO website.  After backing the original data up, I will read it in using Pandas."
   ]
  },
  {
   "cell_type": "code",
   "execution_count": 11,
   "id": "3a7a16fb-2d67-4167-bbf4-fc31df3c527b",
   "metadata": {},
   "outputs": [
    {
     "data": {
      "text/plain": [
       "('data/cao2020_raw_2021_11_15_2213.xlsx',\n",
       " <http.client.HTTPMessage at 0x24ab1dee400>)"
      ]
     },
     "execution_count": 11,
     "metadata": {},
     "output_type": "execute_result"
    }
   ],
   "source": [
    "# Creating a path from original data backup.\n",
    "original_data = \"data/cao2020_raw_\"+strnow+\".xlsx\"\n",
    "\n",
    "# Using urllib function pull the original excel file and back up to the path above.\n",
    "urlrq.urlretrieve(\"http://www2.cao.ie/points/CAOPointsCharts2020.xlsx\", original_data)"
   ]
  },
  {
   "cell_type": "code",
   "execution_count": 12,
   "id": "b9c8bc56-f144-4dd7-8100-05c3d6caec13",
   "metadata": {},
   "outputs": [],
   "source": [
    "# Reading in the excel file to a pandas dataframe, skipping first 10 rows.\n",
    "df = pd.read_excel(\"http://www2.cao.ie/points/CAOPointsCharts2020.xlsx\", skiprows=10)\n",
    "\n",
    "# Creating new dataframe with only the relevant columns.\n",
    "CAO_2020 = df[[\"COURSE CODE2\",\"COURSE TITLE\", \"R1 POINTS\", \"R2 POINTS\"]] # Ref: [10]"
   ]
  },
  {
   "cell_type": "code",
   "execution_count": 13,
   "id": "de31e856-1091-47d6-a111-f399f98f2f1f",
   "metadata": {},
   "outputs": [
    {
     "data": {
      "text/html": [
       "<div>\n",
       "<style scoped>\n",
       "    .dataframe tbody tr th:only-of-type {\n",
       "        vertical-align: middle;\n",
       "    }\n",
       "\n",
       "    .dataframe tbody tr th {\n",
       "        vertical-align: top;\n",
       "    }\n",
       "\n",
       "    .dataframe thead th {\n",
       "        text-align: right;\n",
       "    }\n",
       "</style>\n",
       "<table border=\"1\" class=\"dataframe\">\n",
       "  <thead>\n",
       "    <tr style=\"text-align: right;\">\n",
       "      <th></th>\n",
       "      <th>COURSE CODE2</th>\n",
       "      <th>COURSE TITLE</th>\n",
       "      <th>R1 POINTS</th>\n",
       "      <th>R2 POINTS</th>\n",
       "    </tr>\n",
       "  </thead>\n",
       "  <tbody>\n",
       "    <tr>\n",
       "      <th>0</th>\n",
       "      <td>AC120</td>\n",
       "      <td>International Business</td>\n",
       "      <td>209</td>\n",
       "      <td>NaN</td>\n",
       "    </tr>\n",
       "    <tr>\n",
       "      <th>1</th>\n",
       "      <td>AC137</td>\n",
       "      <td>Liberal Arts</td>\n",
       "      <td>252</td>\n",
       "      <td>NaN</td>\n",
       "    </tr>\n",
       "    <tr>\n",
       "      <th>2</th>\n",
       "      <td>AD101</td>\n",
       "      <td>First Year Art &amp; Design (Common Entry,portfolio)</td>\n",
       "      <td>#+matric</td>\n",
       "      <td>NaN</td>\n",
       "    </tr>\n",
       "    <tr>\n",
       "      <th>3</th>\n",
       "      <td>AD102</td>\n",
       "      <td>Graphic Design and Moving Image Design (portfo...</td>\n",
       "      <td>#+matric</td>\n",
       "      <td>NaN</td>\n",
       "    </tr>\n",
       "    <tr>\n",
       "      <th>4</th>\n",
       "      <td>AD103</td>\n",
       "      <td>Textile &amp; Surface Design and Jewellery &amp; Objec...</td>\n",
       "      <td>#+matric</td>\n",
       "      <td>NaN</td>\n",
       "    </tr>\n",
       "    <tr>\n",
       "      <th>...</th>\n",
       "      <td>...</td>\n",
       "      <td>...</td>\n",
       "      <td>...</td>\n",
       "      <td>...</td>\n",
       "    </tr>\n",
       "    <tr>\n",
       "      <th>1459</th>\n",
       "      <td>WD208</td>\n",
       "      <td>Manufacturing Engineering</td>\n",
       "      <td>188</td>\n",
       "      <td>NaN</td>\n",
       "    </tr>\n",
       "    <tr>\n",
       "      <th>1460</th>\n",
       "      <td>WD210</td>\n",
       "      <td>Software Systems Development</td>\n",
       "      <td>279</td>\n",
       "      <td>NaN</td>\n",
       "    </tr>\n",
       "    <tr>\n",
       "      <th>1461</th>\n",
       "      <td>WD211</td>\n",
       "      <td>Creative Computing</td>\n",
       "      <td>271</td>\n",
       "      <td>NaN</td>\n",
       "    </tr>\n",
       "    <tr>\n",
       "      <th>1462</th>\n",
       "      <td>WD212</td>\n",
       "      <td>Recreation and Sport Management</td>\n",
       "      <td>270</td>\n",
       "      <td>NaN</td>\n",
       "    </tr>\n",
       "    <tr>\n",
       "      <th>1463</th>\n",
       "      <td>WD230</td>\n",
       "      <td>Mechanical and Manufacturing Engineering</td>\n",
       "      <td>253</td>\n",
       "      <td>NaN</td>\n",
       "    </tr>\n",
       "  </tbody>\n",
       "</table>\n",
       "<p>1464 rows × 4 columns</p>\n",
       "</div>"
      ],
      "text/plain": [
       "     COURSE CODE2                                       COURSE TITLE  \\\n",
       "0           AC120                             International Business   \n",
       "1           AC137                                       Liberal Arts   \n",
       "2           AD101   First Year Art & Design (Common Entry,portfolio)   \n",
       "3           AD102  Graphic Design and Moving Image Design (portfo...   \n",
       "4           AD103  Textile & Surface Design and Jewellery & Objec...   \n",
       "...           ...                                                ...   \n",
       "1459        WD208                          Manufacturing Engineering   \n",
       "1460        WD210                       Software Systems Development   \n",
       "1461        WD211                                 Creative Computing   \n",
       "1462        WD212                    Recreation and Sport Management   \n",
       "1463        WD230           Mechanical and Manufacturing Engineering   \n",
       "\n",
       "     R1 POINTS R2 POINTS  \n",
       "0          209       NaN  \n",
       "1          252       NaN  \n",
       "2     #+matric       NaN  \n",
       "3     #+matric       NaN  \n",
       "4     #+matric       NaN  \n",
       "...        ...       ...  \n",
       "1459       188       NaN  \n",
       "1460       279       NaN  \n",
       "1461       271       NaN  \n",
       "1462       270       NaN  \n",
       "1463       253       NaN  \n",
       "\n",
       "[1464 rows x 4 columns]"
      ]
     },
     "execution_count": 13,
     "metadata": {},
     "output_type": "execute_result"
    }
   ],
   "source": [
    "# printing the dataframe and checking the number of rows.  Excel file has 1464. \n",
    "CAO_2020"
   ]
  },
  {
   "cell_type": "code",
   "execution_count": 14,
   "id": "d2bf7aec-fee6-4d2e-afdd-a551b516a182",
   "metadata": {},
   "outputs": [
    {
     "data": {
      "text/html": [
       "<div>\n",
       "<style scoped>\n",
       "    .dataframe tbody tr th:only-of-type {\n",
       "        vertical-align: middle;\n",
       "    }\n",
       "\n",
       "    .dataframe tbody tr th {\n",
       "        vertical-align: top;\n",
       "    }\n",
       "\n",
       "    .dataframe thead th {\n",
       "        text-align: right;\n",
       "    }\n",
       "</style>\n",
       "<table border=\"1\" class=\"dataframe\">\n",
       "  <thead>\n",
       "    <tr style=\"text-align: right;\">\n",
       "      <th></th>\n",
       "      <th>COURSE CODE2</th>\n",
       "      <th>COURSE TITLE</th>\n",
       "      <th>R1 POINTS</th>\n",
       "      <th>R2 POINTS</th>\n",
       "    </tr>\n",
       "  </thead>\n",
       "  <tbody>\n",
       "    <tr>\n",
       "      <th>123</th>\n",
       "      <td>CK401</td>\n",
       "      <td>Computer Science</td>\n",
       "      <td>468</td>\n",
       "      <td>NaN</td>\n",
       "    </tr>\n",
       "    <tr>\n",
       "      <th>1460</th>\n",
       "      <td>WD210</td>\n",
       "      <td>Software Systems Development</td>\n",
       "      <td>279</td>\n",
       "      <td>NaN</td>\n",
       "    </tr>\n",
       "  </tbody>\n",
       "</table>\n",
       "</div>"
      ],
      "text/plain": [
       "     COURSE CODE2                  COURSE TITLE R1 POINTS R2 POINTS\n",
       "123         CK401              Computer Science       468       NaN\n",
       "1460        WD210  Software Systems Development       279       NaN"
      ]
     },
     "execution_count": 14,
     "metadata": {},
     "output_type": "execute_result"
    }
   ],
   "source": [
    "# Spot checking the dataframe\n",
    "CAO_2020.iloc[[123, 1460]]\n",
    "\n",
    "# Item at row 123 on df should be row 135 on original excel file - (CK401). \n",
    "# Item at row 1460 on df should be row 1472 on orignal excel file - (WD210).\n",
    "\n",
    "# Minus 10 from skipped rows.\n",
    "# Minus 1 as we don't include column names.\n",
    "# Minus 1 as df starts at row 0, excel starts at row 1. "
   ]
  },
  {
   "cell_type": "code",
   "execution_count": 15,
   "id": "17910e85-dc34-4922-9510-60c80a553c49",
   "metadata": {},
   "outputs": [],
   "source": [
    "# Saving the relevant CAO 2020 data to a CSV file.\n",
    "path_2019 = \"data/cao2020_\" + strnow + \".csv\"\n",
    "CAO_2020.to_csv(path_2019)"
   ]
  },
  {
   "cell_type": "markdown",
   "id": "5e568f2b-3aa1-4f2d-b69c-58d2baeb69e9",
   "metadata": {},
   "source": [
    "Theres a lot more courses in 2020.  Need to consider whether to include addional courses with no points assigned. \n",
    "or consider only analysing the courses with points assigned across 3 years. "
   ]
  },
  {
   "cell_type": "markdown",
   "id": "0e442819-9947-4d9a-8283-85898e554201",
   "metadata": {},
   "source": [
    "<br>\n",
    "\n",
    "## Obtaining the 2019 data from a PDF file."
   ]
  },
  {
   "cell_type": "markdown",
   "id": "5f02302e-d491-479a-9f94-bdfdae2bddb7",
   "metadata": {},
   "source": [
    "### Steps to prepare the CAO 2019 data."
   ]
  },
  {
   "cell_type": "markdown",
   "id": "434d6d5d-2549-4a9e-8fe6-584c0d01f935",
   "metadata": {},
   "source": [
    "1. Save the PDF file to the local data folder.\n",
    "2. Open in Microsoft Word and save original version of the word doc.\n",
    "3. Save a 'workings' copy.\n",
    "4. Delete header, footer and preamble.\n",
    "5. Copy all data and paste into Notepad ++\n",
    "6. Remove HEI name headings, and blank lines.\n",
    "7. Find \"\\t\\t\" and replace with \"\\t\".\n",
    "8. Replace backtick \"`\" with single quote \"'\"\n",
    "9. Read in to Jupyter Notebook with sep='t' and only first 4 columns.\n",
    "10. Fix any errors on the CSV file. \n"
   ]
  },
  {
   "cell_type": "code",
   "execution_count": 18,
   "id": "7ea07104-4d2d-482e-a413-3f0fc8e28523",
   "metadata": {},
   "outputs": [],
   "source": [
    "# Reading in 2019 Data. \n",
    "df2019 = pd.read_csv(r\"data\\cao2019_dataset.csv\", sep='\\t', usecols =[0,1,2,3]) # ref: [11]"
   ]
  },
  {
   "cell_type": "code",
   "execution_count": 19,
   "id": "7b6f6c50-ba38-4694-901b-808162f42179",
   "metadata": {},
   "outputs": [
    {
     "data": {
      "text/html": [
       "<div>\n",
       "<style scoped>\n",
       "    .dataframe tbody tr th:only-of-type {\n",
       "        vertical-align: middle;\n",
       "    }\n",
       "\n",
       "    .dataframe tbody tr th {\n",
       "        vertical-align: top;\n",
       "    }\n",
       "\n",
       "    .dataframe thead th {\n",
       "        text-align: right;\n",
       "    }\n",
       "</style>\n",
       "<table border=\"1\" class=\"dataframe\">\n",
       "  <thead>\n",
       "    <tr style=\"text-align: right;\">\n",
       "      <th></th>\n",
       "      <th>Course Code</th>\n",
       "      <th>INSTITUTION and COURSE</th>\n",
       "      <th>EOS</th>\n",
       "      <th>Mid</th>\n",
       "    </tr>\n",
       "  </thead>\n",
       "  <tbody>\n",
       "    <tr>\n",
       "      <th>0</th>\n",
       "      <td>AL801</td>\n",
       "      <td>Software Design with Virtual Reality and Gaming</td>\n",
       "      <td>304</td>\n",
       "      <td>328.0</td>\n",
       "    </tr>\n",
       "    <tr>\n",
       "      <th>1</th>\n",
       "      <td>AL802</td>\n",
       "      <td>Software Design with Cloud Computing</td>\n",
       "      <td>301</td>\n",
       "      <td>306.0</td>\n",
       "    </tr>\n",
       "    <tr>\n",
       "      <th>2</th>\n",
       "      <td>AL803</td>\n",
       "      <td>Software Design with Mobile Apps and Connected...</td>\n",
       "      <td>309</td>\n",
       "      <td>337.0</td>\n",
       "    </tr>\n",
       "    <tr>\n",
       "      <th>3</th>\n",
       "      <td>AL805</td>\n",
       "      <td>Network Management and Cloud Infrastructure</td>\n",
       "      <td>329</td>\n",
       "      <td>442.0</td>\n",
       "    </tr>\n",
       "    <tr>\n",
       "      <th>4</th>\n",
       "      <td>AL810</td>\n",
       "      <td>Quantity Surveying</td>\n",
       "      <td>307</td>\n",
       "      <td>349.0</td>\n",
       "    </tr>\n",
       "    <tr>\n",
       "      <th>...</th>\n",
       "      <td>...</td>\n",
       "      <td>...</td>\n",
       "      <td>...</td>\n",
       "      <td>...</td>\n",
       "    </tr>\n",
       "    <tr>\n",
       "      <th>925</th>\n",
       "      <td>WD200</td>\n",
       "      <td>Arts (options)</td>\n",
       "      <td>221</td>\n",
       "      <td>296.0</td>\n",
       "    </tr>\n",
       "    <tr>\n",
       "      <th>926</th>\n",
       "      <td>WD210</td>\n",
       "      <td>Software Systems Development</td>\n",
       "      <td>271</td>\n",
       "      <td>329.0</td>\n",
       "    </tr>\n",
       "    <tr>\n",
       "      <th>927</th>\n",
       "      <td>WD211</td>\n",
       "      <td>Creative Computing</td>\n",
       "      <td>275</td>\n",
       "      <td>322.0</td>\n",
       "    </tr>\n",
       "    <tr>\n",
       "      <th>928</th>\n",
       "      <td>WD212</td>\n",
       "      <td>Recreation and Sport Management</td>\n",
       "      <td>274</td>\n",
       "      <td>311.0</td>\n",
       "    </tr>\n",
       "    <tr>\n",
       "      <th>929</th>\n",
       "      <td>WD230</td>\n",
       "      <td>Mechanical and Manufacturing Engineering</td>\n",
       "      <td>273</td>\n",
       "      <td>348.0</td>\n",
       "    </tr>\n",
       "  </tbody>\n",
       "</table>\n",
       "<p>930 rows × 4 columns</p>\n",
       "</div>"
      ],
      "text/plain": [
       "    Course Code                             INSTITUTION and COURSE  EOS    Mid\n",
       "0         AL801    Software Design with Virtual Reality and Gaming  304  328.0\n",
       "1         AL802               Software Design with Cloud Computing  301  306.0\n",
       "2         AL803  Software Design with Mobile Apps and Connected...  309  337.0\n",
       "3         AL805        Network Management and Cloud Infrastructure  329  442.0\n",
       "4         AL810                                 Quantity Surveying  307  349.0\n",
       "..          ...                                                ...  ...    ...\n",
       "925       WD200                                     Arts (options)  221  296.0\n",
       "926       WD210                       Software Systems Development  271  329.0\n",
       "927       WD211                                 Creative Computing  275  322.0\n",
       "928       WD212                    Recreation and Sport Management  274  311.0\n",
       "929       WD230           Mechanical and Manufacturing Engineering  273  348.0\n",
       "\n",
       "[930 rows x 4 columns]"
      ]
     },
     "execution_count": 19,
     "metadata": {},
     "output_type": "execute_result"
    }
   ],
   "source": [
    "df2019"
   ]
  },
  {
   "cell_type": "code",
   "execution_count": null,
   "id": "70fbded1-b6a0-4bc7-8b00-24bfbb17d204",
   "metadata": {},
   "outputs": [],
   "source": []
  },
  {
   "cell_type": "code",
   "execution_count": null,
   "id": "8178953a-423a-45a1-80b3-8fdeacde4a8b",
   "metadata": {},
   "outputs": [],
   "source": []
  },
  {
   "cell_type": "markdown",
   "id": "fc8a85fd-9261-4804-bac1-79185415bfb7",
   "metadata": {},
   "source": [
    "# References\n",
    "- [1] http://www.cao.ie/index.php?page=points&p=2021\n",
    "- [2] https://www.w3schools.com/python/python_regex.asp\n",
    "- [2] https://realpython.com/regex-python/\n",
    "- [3] https://www.ocpsoft.org/tutorials/regular-expressions/or-in-regex/\n",
    "- https://www.w3schools.com/python/python_functions.asp\n",
    "- https://stackoverflow.com/questions/54496411/python-errortypeerror-findall-missing-1-required-positional-argument-stri\n",
    "- https://www.w3schools.com/python/python_regex.asp\n",
    "- https://realpython.com/regex-python/\n",
    "- https://stackoverflow.com/questions/2013124/regex-matching-up-to-the-first-occurrence-of-a-character\n",
    "- https://developers.google.com/edu/python/regular-expressions\n",
    "- https://www.ocpsoft.org/tutorials/regular-expressions/or-in-regex/\n",
    "- [10] https://pandas.pydata.org/pandas-docs/stable/user_guide/indexing.html\n",
    "- [11] https://pandas.pydata.org/docs/reference/api/pandas.read_csv.html\n",
    "- [12] https://www.kite.com/python/answers/how-to-set-column-names-when-importing-a-csv-into-a-pandas-dataframe-in-python"
   ]
  },
  {
   "cell_type": "markdown",
   "id": "f317dc8d-6542-44a6-9028-8adf5d74974e",
   "metadata": {},
   "source": [
    "***\n",
    "# End"
   ]
  }
 ],
 "metadata": {
  "kernelspec": {
   "display_name": "Python 3",
   "language": "python",
   "name": "python3"
  },
  "language_info": {
   "codemirror_mode": {
    "name": "ipython",
    "version": 3
   },
   "file_extension": ".py",
   "mimetype": "text/x-python",
   "name": "python",
   "nbconvert_exporter": "python",
   "pygments_lexer": "ipython3",
   "version": "3.8.8"
  }
 },
 "nbformat": 4,
 "nbformat_minor": 5
}
